{
 "cells": [
  {
   "cell_type": "code",
   "execution_count": 1,
   "id": "a746550a-7708-4de3-ad09-880c783901e5",
   "metadata": {
    "id": "a746550a-7708-4de3-ad09-880c783901e5"
   },
   "outputs": [],
   "source": [
    "import numpy as np\n",
    "from scipy.special import expit"
   ]
  },
  {
   "cell_type": "code",
   "execution_count": 2,
   "id": "f9f267d7-457f-4d8f-90cd-932047443b46",
   "metadata": {
    "id": "f9f267d7-457f-4d8f-90cd-932047443b46"
   },
   "outputs": [],
   "source": [
    "import matplotlib.pyplot as plt"
   ]
  },
  {
   "cell_type": "code",
   "execution_count": 20,
   "id": "6c12432c-297c-44f9-b329-bfef5ac06ae9",
   "metadata": {},
   "outputs": [],
   "source": [
    "import pandas as pd"
   ]
  },
  {
   "cell_type": "code",
   "execution_count": 3,
   "id": "5bba0075-bb48-4135-a261-2f40259a4ffa",
   "metadata": {
    "id": "5bba0075-bb48-4135-a261-2f40259a4ffa"
   },
   "outputs": [],
   "source": [
    "def irt1pl(theta, b):\n",
    "    return expit(theta - b)"
   ]
  },
  {
   "cell_type": "code",
   "execution_count": 4,
   "id": "352a7c21-47d1-4492-8f8b-5abd7675b051",
   "metadata": {
    "id": "352a7c21-47d1-4492-8f8b-5abd7675b051"
   },
   "outputs": [],
   "source": [
    "def irt2pl(theta, a, b):\n",
    "    return expit(a * (theta - b))"
   ]
  },
  {
   "cell_type": "code",
   "execution_count": 5,
   "id": "c768eb07-f6f4-423f-a85f-789e205afe99",
   "metadata": {
    "id": "c768eb07-f6f4-423f-a85f-789e205afe99"
   },
   "outputs": [],
   "source": [
    "def irt3pl(theta, a, b, c):\n",
    "    return c + (1 - c) * expit(a * (theta - b))"
   ]
  },
  {
   "cell_type": "code",
   "execution_count": 61,
   "id": "17cd0133-af9b-4248-95b9-bd11fd638aab",
   "metadata": {
    "id": "17cd0133-af9b-4248-95b9-bd11fd638aab"
   },
   "outputs": [],
   "source": [
    "from scipy.stats import binom\n",
    "from scipy.stats import chi2"
   ]
  },
  {
   "cell_type": "code",
   "execution_count": 8,
   "id": "0581178e-d9ea-48af-b46b-fbc6b9a2396e",
   "metadata": {
    "id": "0581178e-d9ea-48af-b46b-fbc6b9a2396e"
   },
   "outputs": [],
   "source": [
    "def sinh_du_lieu(n_students, a, b, c, loai = 2):\n",
    "    theta = np.linspace(-3, 3, n_students)\n",
    "    theta1 = theta\n",
    "    theta = theta.reshape(-1, 1)\n",
    "    f = np.repeat(21, len(theta))\n",
    "    if loai == 1:\n",
    "        P = irt1pl(theta, b)\n",
    "    elif loai == 2:\n",
    "        P = irt2pl(theta, a, b)\n",
    "    else:\n",
    "        P = irt3pl(theta, a, b, c)\n",
    "    r = binom.rvs(f, P.flatten())\n",
    "    p = r / f\n",
    "    return theta, r, f, p"
   ]
  },
  {
   "cell_type": "code",
   "execution_count": 12,
   "id": "427da23c-9d2e-4dfc-974c-eafb8db3a7bf",
   "metadata": {
    "id": "427da23c-9d2e-4dfc-974c-eafb8db3a7bf"
   },
   "outputs": [],
   "source": [
    "theta, r1pl, f1pl, p1pl = sinh_du_lieu(33, 1.4, 0.4, 0, 1)"
   ]
  },
  {
   "cell_type": "code",
   "execution_count": 18,
   "id": "eeef2259-e08d-44fb-bff5-cfd0d6915785",
   "metadata": {
    "id": "eeef2259-e08d-44fb-bff5-cfd0d6915785",
    "outputId": "8f8e0095-e567-447c-8e0b-c0d8c6961ec9"
   },
   "outputs": [
    {
     "name": "stdout",
     "output_type": "stream",
     "text": [
      "Năng lực của từng nhóm thí sinh: [-3.     -2.8125 -2.625  -2.4375 -2.25   -2.0625 -1.875  -1.6875 -1.5\n",
      " -1.3125 -1.125  -0.9375 -0.75   -0.5625 -0.375  -0.1875  0.      0.1875\n",
      "  0.375   0.5625  0.75    0.9375  1.125   1.3125  1.5     1.6875  1.875\n",
      "  2.0625  2.25    2.4375  2.625   2.8125  3.    ]\n",
      "Số lượng thí sinh trả lời đúng tại mỗi mức năng lực theta: [ 0  2  1  2  2  2  1  5  4  5  6  4  8  9  7  8  9  8 11 16 14 14 13 11\n",
      " 17 18 17 16 19 16 19 21 17]\n",
      "Số lượng thí sinh có trong từng nhóm năng lực [21 21 21 21 21 21 21 21 21 21 21 21 21 21 21 21 21 21 21 21 21 21 21 21\n",
      " 21 21 21 21 21 21 21 21 21]\n",
      "Xác suất trả lời đúng xủa từng nhóm năng lực theta: [0.         0.0952381  0.04761905 0.0952381  0.0952381  0.0952381\n",
      " 0.04761905 0.23809524 0.19047619 0.23809524 0.28571429 0.19047619\n",
      " 0.38095238 0.42857143 0.33333333 0.38095238 0.42857143 0.38095238\n",
      " 0.52380952 0.76190476 0.66666667 0.66666667 0.61904762 0.52380952\n",
      " 0.80952381 0.85714286 0.80952381 0.76190476 0.9047619  0.76190476\n",
      " 0.9047619  1.         0.80952381]\n"
     ]
    }
   ],
   "source": [
    "print(f\"Năng lực của từng nhóm thí sinh: {theta.flatten()}\")\n",
    "print(f\"Số lượng thí sinh trả lời đúng tại mỗi mức năng lực theta: {r1pl}\")\n",
    "print(f\"Số lượng thí sinh có trong từng nhóm năng lực {f1pl}\")\n",
    "print(f\"Xác suất trả lời đúng xủa từng nhóm năng lực theta: {p1pl}\")"
   ]
  },
  {
   "cell_type": "code",
   "execution_count": 22,
   "id": "2d4041ce-524b-4b88-9f44-fa3510c55575",
   "metadata": {},
   "outputs": [
    {
     "data": {
      "text/html": [
       "<div>\n",
       "<style scoped>\n",
       "    .dataframe tbody tr th:only-of-type {\n",
       "        vertical-align: middle;\n",
       "    }\n",
       "\n",
       "    .dataframe tbody tr th {\n",
       "        vertical-align: top;\n",
       "    }\n",
       "\n",
       "    .dataframe thead th {\n",
       "        text-align: right;\n",
       "    }\n",
       "</style>\n",
       "<table border=\"1\" class=\"dataframe\">\n",
       "  <thead>\n",
       "    <tr style=\"text-align: right;\">\n",
       "      <th></th>\n",
       "      <th>theta</th>\n",
       "      <th>số đúng (r1pl)</th>\n",
       "      <th>số thí sinh (f1pl)</th>\n",
       "      <th>xác suất đúng (p1pl)</th>\n",
       "    </tr>\n",
       "  </thead>\n",
       "  <tbody>\n",
       "    <tr>\n",
       "      <th>0</th>\n",
       "      <td>-3.0000</td>\n",
       "      <td>0</td>\n",
       "      <td>21</td>\n",
       "      <td>0.000000</td>\n",
       "    </tr>\n",
       "    <tr>\n",
       "      <th>1</th>\n",
       "      <td>-2.8125</td>\n",
       "      <td>2</td>\n",
       "      <td>21</td>\n",
       "      <td>0.095238</td>\n",
       "    </tr>\n",
       "    <tr>\n",
       "      <th>2</th>\n",
       "      <td>-2.6250</td>\n",
       "      <td>1</td>\n",
       "      <td>21</td>\n",
       "      <td>0.047619</td>\n",
       "    </tr>\n",
       "    <tr>\n",
       "      <th>3</th>\n",
       "      <td>-2.4375</td>\n",
       "      <td>2</td>\n",
       "      <td>21</td>\n",
       "      <td>0.095238</td>\n",
       "    </tr>\n",
       "    <tr>\n",
       "      <th>4</th>\n",
       "      <td>-2.2500</td>\n",
       "      <td>2</td>\n",
       "      <td>21</td>\n",
       "      <td>0.095238</td>\n",
       "    </tr>\n",
       "    <tr>\n",
       "      <th>5</th>\n",
       "      <td>-2.0625</td>\n",
       "      <td>2</td>\n",
       "      <td>21</td>\n",
       "      <td>0.095238</td>\n",
       "    </tr>\n",
       "    <tr>\n",
       "      <th>6</th>\n",
       "      <td>-1.8750</td>\n",
       "      <td>1</td>\n",
       "      <td>21</td>\n",
       "      <td>0.047619</td>\n",
       "    </tr>\n",
       "    <tr>\n",
       "      <th>7</th>\n",
       "      <td>-1.6875</td>\n",
       "      <td>5</td>\n",
       "      <td>21</td>\n",
       "      <td>0.238095</td>\n",
       "    </tr>\n",
       "    <tr>\n",
       "      <th>8</th>\n",
       "      <td>-1.5000</td>\n",
       "      <td>4</td>\n",
       "      <td>21</td>\n",
       "      <td>0.190476</td>\n",
       "    </tr>\n",
       "    <tr>\n",
       "      <th>9</th>\n",
       "      <td>-1.3125</td>\n",
       "      <td>5</td>\n",
       "      <td>21</td>\n",
       "      <td>0.238095</td>\n",
       "    </tr>\n",
       "    <tr>\n",
       "      <th>10</th>\n",
       "      <td>-1.1250</td>\n",
       "      <td>6</td>\n",
       "      <td>21</td>\n",
       "      <td>0.285714</td>\n",
       "    </tr>\n",
       "    <tr>\n",
       "      <th>11</th>\n",
       "      <td>-0.9375</td>\n",
       "      <td>4</td>\n",
       "      <td>21</td>\n",
       "      <td>0.190476</td>\n",
       "    </tr>\n",
       "    <tr>\n",
       "      <th>12</th>\n",
       "      <td>-0.7500</td>\n",
       "      <td>8</td>\n",
       "      <td>21</td>\n",
       "      <td>0.380952</td>\n",
       "    </tr>\n",
       "    <tr>\n",
       "      <th>13</th>\n",
       "      <td>-0.5625</td>\n",
       "      <td>9</td>\n",
       "      <td>21</td>\n",
       "      <td>0.428571</td>\n",
       "    </tr>\n",
       "    <tr>\n",
       "      <th>14</th>\n",
       "      <td>-0.3750</td>\n",
       "      <td>7</td>\n",
       "      <td>21</td>\n",
       "      <td>0.333333</td>\n",
       "    </tr>\n",
       "    <tr>\n",
       "      <th>15</th>\n",
       "      <td>-0.1875</td>\n",
       "      <td>8</td>\n",
       "      <td>21</td>\n",
       "      <td>0.380952</td>\n",
       "    </tr>\n",
       "    <tr>\n",
       "      <th>16</th>\n",
       "      <td>0.0000</td>\n",
       "      <td>9</td>\n",
       "      <td>21</td>\n",
       "      <td>0.428571</td>\n",
       "    </tr>\n",
       "    <tr>\n",
       "      <th>17</th>\n",
       "      <td>0.1875</td>\n",
       "      <td>8</td>\n",
       "      <td>21</td>\n",
       "      <td>0.380952</td>\n",
       "    </tr>\n",
       "    <tr>\n",
       "      <th>18</th>\n",
       "      <td>0.3750</td>\n",
       "      <td>11</td>\n",
       "      <td>21</td>\n",
       "      <td>0.523810</td>\n",
       "    </tr>\n",
       "    <tr>\n",
       "      <th>19</th>\n",
       "      <td>0.5625</td>\n",
       "      <td>16</td>\n",
       "      <td>21</td>\n",
       "      <td>0.761905</td>\n",
       "    </tr>\n",
       "    <tr>\n",
       "      <th>20</th>\n",
       "      <td>0.7500</td>\n",
       "      <td>14</td>\n",
       "      <td>21</td>\n",
       "      <td>0.666667</td>\n",
       "    </tr>\n",
       "    <tr>\n",
       "      <th>21</th>\n",
       "      <td>0.9375</td>\n",
       "      <td>14</td>\n",
       "      <td>21</td>\n",
       "      <td>0.666667</td>\n",
       "    </tr>\n",
       "    <tr>\n",
       "      <th>22</th>\n",
       "      <td>1.1250</td>\n",
       "      <td>13</td>\n",
       "      <td>21</td>\n",
       "      <td>0.619048</td>\n",
       "    </tr>\n",
       "    <tr>\n",
       "      <th>23</th>\n",
       "      <td>1.3125</td>\n",
       "      <td>11</td>\n",
       "      <td>21</td>\n",
       "      <td>0.523810</td>\n",
       "    </tr>\n",
       "    <tr>\n",
       "      <th>24</th>\n",
       "      <td>1.5000</td>\n",
       "      <td>17</td>\n",
       "      <td>21</td>\n",
       "      <td>0.809524</td>\n",
       "    </tr>\n",
       "    <tr>\n",
       "      <th>25</th>\n",
       "      <td>1.6875</td>\n",
       "      <td>18</td>\n",
       "      <td>21</td>\n",
       "      <td>0.857143</td>\n",
       "    </tr>\n",
       "    <tr>\n",
       "      <th>26</th>\n",
       "      <td>1.8750</td>\n",
       "      <td>17</td>\n",
       "      <td>21</td>\n",
       "      <td>0.809524</td>\n",
       "    </tr>\n",
       "    <tr>\n",
       "      <th>27</th>\n",
       "      <td>2.0625</td>\n",
       "      <td>16</td>\n",
       "      <td>21</td>\n",
       "      <td>0.761905</td>\n",
       "    </tr>\n",
       "    <tr>\n",
       "      <th>28</th>\n",
       "      <td>2.2500</td>\n",
       "      <td>19</td>\n",
       "      <td>21</td>\n",
       "      <td>0.904762</td>\n",
       "    </tr>\n",
       "    <tr>\n",
       "      <th>29</th>\n",
       "      <td>2.4375</td>\n",
       "      <td>16</td>\n",
       "      <td>21</td>\n",
       "      <td>0.761905</td>\n",
       "    </tr>\n",
       "    <tr>\n",
       "      <th>30</th>\n",
       "      <td>2.6250</td>\n",
       "      <td>19</td>\n",
       "      <td>21</td>\n",
       "      <td>0.904762</td>\n",
       "    </tr>\n",
       "    <tr>\n",
       "      <th>31</th>\n",
       "      <td>2.8125</td>\n",
       "      <td>21</td>\n",
       "      <td>21</td>\n",
       "      <td>1.000000</td>\n",
       "    </tr>\n",
       "    <tr>\n",
       "      <th>32</th>\n",
       "      <td>3.0000</td>\n",
       "      <td>17</td>\n",
       "      <td>21</td>\n",
       "      <td>0.809524</td>\n",
       "    </tr>\n",
       "  </tbody>\n",
       "</table>\n",
       "</div>"
      ],
      "text/plain": [
       "     theta  số đúng (r1pl)  số thí sinh (f1pl)  xác suất đúng (p1pl)\n",
       "0  -3.0000               0                  21              0.000000\n",
       "1  -2.8125               2                  21              0.095238\n",
       "2  -2.6250               1                  21              0.047619\n",
       "3  -2.4375               2                  21              0.095238\n",
       "4  -2.2500               2                  21              0.095238\n",
       "5  -2.0625               2                  21              0.095238\n",
       "6  -1.8750               1                  21              0.047619\n",
       "7  -1.6875               5                  21              0.238095\n",
       "8  -1.5000               4                  21              0.190476\n",
       "9  -1.3125               5                  21              0.238095\n",
       "10 -1.1250               6                  21              0.285714\n",
       "11 -0.9375               4                  21              0.190476\n",
       "12 -0.7500               8                  21              0.380952\n",
       "13 -0.5625               9                  21              0.428571\n",
       "14 -0.3750               7                  21              0.333333\n",
       "15 -0.1875               8                  21              0.380952\n",
       "16  0.0000               9                  21              0.428571\n",
       "17  0.1875               8                  21              0.380952\n",
       "18  0.3750              11                  21              0.523810\n",
       "19  0.5625              16                  21              0.761905\n",
       "20  0.7500              14                  21              0.666667\n",
       "21  0.9375              14                  21              0.666667\n",
       "22  1.1250              13                  21              0.619048\n",
       "23  1.3125              11                  21              0.523810\n",
       "24  1.5000              17                  21              0.809524\n",
       "25  1.6875              18                  21              0.857143\n",
       "26  1.8750              17                  21              0.809524\n",
       "27  2.0625              16                  21              0.761905\n",
       "28  2.2500              19                  21              0.904762\n",
       "29  2.4375              16                  21              0.761905\n",
       "30  2.6250              19                  21              0.904762\n",
       "31  2.8125              21                  21              1.000000\n",
       "32  3.0000              17                  21              0.809524"
      ]
     },
     "execution_count": 22,
     "metadata": {},
     "output_type": "execute_result"
    }
   ],
   "source": [
    "data = {\n",
    "    \"theta\": theta.flatten(),\n",
    "    \"số đúng (r1pl)\": r1pl,\n",
    "    \"số thí sinh (f1pl)\": f1pl,\n",
    "    \"xác suất đúng (p1pl)\": p1pl\n",
    "}\n",
    "\n",
    "df = pd.DataFrame(data)\n",
    "\n",
    "df"
   ]
  },
  {
   "cell_type": "code",
   "execution_count": 48,
   "id": "708555fe-8812-44c3-9842-64dce608682b",
   "metadata": {
    "id": "708555fe-8812-44c3-9842-64dce608682b",
    "outputId": "2b1d069b-a284-468d-8bed-f38641ae9b94"
   },
   "outputs": [
    {
     "data": {
      "image/png": "[encoded data removed]",
      "text/plain": [
       "<Figure size 700x400 with 1 Axes>"
      ]
     },
     "metadata": {},
     "output_type": "display_data"
    }
   ],
   "source": [
    "plt.figure(figsize=(7, 4))\n",
    "plt.plot(theta, p1pl, 'o')  # Dùng 'o' để vẽ các chấm tròn\n",
    "# plt.xlim(-3, 3)\n",
    "# plt.ylim(0, 1)\n",
    "plt.xlabel(r\"Năng lực ($\\theta$)\")  # Sử dụng ký hiệu theta cho trục X\n",
    "plt.ylabel(\"Tỷ lệ câu trả lời đúng\")  # Trục Y bằng tiếng Việt\n",
    "# Lưu ảnh dưới dạng PNG\n",
    "plt.savefig('1pl.png', format='png')\n",
    "plt.show()"
   ]
  },
  {
   "cell_type": "code",
   "execution_count": 26,
   "id": "2178a39e-1e87-48c6-ad47-11909473ebcc",
   "metadata": {
    "id": "2178a39e-1e87-48c6-ad47-11909473ebcc"
   },
   "outputs": [],
   "source": [
    "def estimate_parameters_1pl(theta, b, r, f, p, max_iterations = 100, tol = 10e-3):\n",
    "    b_es = b\n",
    "    for i in range(max_iterations):\n",
    "        P = irt1pl(theta, b_es)\n",
    "        grad = 0\n",
    "        hess = 0\n",
    "        for g in range(len(theta)):\n",
    "            grad += -r[g] + f[g] * P[g]\n",
    "            hess += f[g] * P[g] * (1 - P[g])\n",
    "\n",
    "        delta = grad / hess\n",
    "        es_new = b_es + delta\n",
    "\n",
    "        if np.abs(delta) < tol:\n",
    "            print(f\"Hội tụ sau {i + 1} lần!\")\n",
    "            break\n",
    "        b_es = es_new\n",
    "    P1 = irt1pl(theta, b_es)\n",
    "    cs = 0\n",
    "    for g in range(len(theta)):\n",
    "        v = f[g] * (p[g] - P1[g])**2 / (P1[g] - P1[g]**2)\n",
    "        cs += v\n",
    "    chi = chi2.ppf(0.95, df=32)\n",
    "    return b_es, cs, chi"
   ]
  },
  {
   "cell_type": "code",
   "execution_count": 27,
   "id": "42b128c0-e643-4b61-96ce-c0dd4449ec24",
   "metadata": {
    "id": "42b128c0-e643-4b61-96ce-c0dd4449ec24"
   },
   "outputs": [],
   "source": [
    "b_init = 0"
   ]
  },
  {
   "cell_type": "code",
   "execution_count": 28,
   "id": "62a5a6bf-82f1-49f1-b45b-f9dbad77f8ea",
   "metadata": {
    "id": "62a5a6bf-82f1-49f1-b45b-f9dbad77f8ea",
    "outputId": "944dbd3b-f125-4ca3-d4c5-7c0b602dcd44"
   },
   "outputs": [
    {
     "name": "stdout",
     "output_type": "stream",
     "text": [
      "Hội tụ sau 2 lần!\n"
     ]
    }
   ],
   "source": [
    "b_es_1pl, cs_1pl, chi_1pl = estimate_parameters_1pl(theta, b_init, r1pl, f1pl, p1pl)"
   ]
  },
  {
   "cell_type": "code",
   "execution_count": 29,
   "id": "a57a7ec2-7ab4-48fd-bc0b-2dd582d3900e",
   "metadata": {
    "id": "a57a7ec2-7ab4-48fd-bc0b-2dd582d3900e",
    "outputId": "ad3bd508-27be-4f04-be38-07e84321ab3d"
   },
   "outputs": [
    {
     "name": "stdout",
     "output_type": "stream",
     "text": [
      "b = [0.23949523], cs = [35.40720796], chi = 46.19425952027847\n"
     ]
    }
   ],
   "source": [
    "print(f\"b = {b_es_1pl}, cs = {cs_1pl}, chi = {chi_1pl}\")"
   ]
  },
  {
   "cell_type": "code",
   "execution_count": 30,
   "id": "dfe70e2e-0c02-4349-bac8-56e03f2edf35",
   "metadata": {
    "id": "dfe70e2e-0c02-4349-bac8-56e03f2edf35"
   },
   "outputs": [],
   "source": [
    "P1pl = irt1pl(theta, b_es_1pl[0])"
   ]
  },
  {
   "cell_type": "code",
   "execution_count": 49,
   "id": "b0881c2c-baf7-47d7-8284-28d675928607",
   "metadata": {
    "id": "b0881c2c-baf7-47d7-8284-28d675928607",
    "outputId": "2d196b4e-cc30-4db5-ceb3-36dc4915c257"
   },
   "outputs": [
    {
     "data": {
      "image/png": "[encoded data removed]",
      "text/plain": [
       "<Figure size 700x400 with 1 Axes>"
      ]
     },
     "metadata": {},
     "output_type": "display_data"
    }
   ],
   "source": [
    "# Giả sử theta1 và p đã được định nghĩa trước đó, và P cũng đã được tính toán\n",
    "plt.figure(figsize=(7, 4))\n",
    "plt.plot(theta, p1pl, 'o', label=\"Dữ liệu quan sát\")  # Dùng 'o' để vẽ các chấm tròn\n",
    "plt.plot(theta, P1pl, label=\"Đường ICC\", color='r')  # Vẽ đường P với màu đỏ\n",
    "# plt.xlim(-3, 3)\n",
    "# plt.ylim(0, 1)\n",
    "plt.xlabel(r\"Năng lực ($\\theta$)\")  # Sử dụng ký hiệu theta cho trục X\n",
    "plt.ylabel(\"Tỷ lệ câu trả lời đúng\")  # Trục Y bằng tiếng Việt\n",
    "plt.legend()  # Hiển thị chú thích (legend)\n",
    "plt.savefig('tyle_2pl.png', format='png')\n",
    "plt.show()"
   ]
  },
  {
   "cell_type": "code",
   "execution_count": 34,
   "id": "e147f468-4a35-417a-a5d0-92728d187b6a",
   "metadata": {
    "id": "e147f468-4a35-417a-a5d0-92728d187b6a"
   },
   "outputs": [],
   "source": [
    "theta, r2pl, f2pl, p2pl = sinh_du_lieu(33, 1.4, 0.4, 0.17)"
   ]
  },
  {
   "cell_type": "code",
   "execution_count": 36,
   "id": "0d9aba75-2282-47cc-8323-9fe317d986e3",
   "metadata": {
    "scrolled": true
   },
   "outputs": [
    {
     "name": "stdout",
     "output_type": "stream",
     "text": [
      "Năng lực của từng nhóm thí sinh: [-3.     -2.8125 -2.625  -2.4375 -2.25   -2.0625 -1.875  -1.6875 -1.5\n",
      " -1.3125 -1.125  -0.9375 -0.75   -0.5625 -0.375  -0.1875  0.      0.1875\n",
      "  0.375   0.5625  0.75    0.9375  1.125   1.3125  1.5     1.6875  1.875\n",
      "  2.0625  2.25    2.4375  2.625   2.8125  3.    ]\n",
      "Số lượng thí sinh trả lời đúng tại mỗi mức năng lực theta: [ 0  0  0  1  0  0  2  0  1  3  3  1  2  3  9  8 13  9  4 10 14 15 18 15\n",
      " 20 17 18 20 21 20 19 18 21]\n",
      "Số lượng thí sinh có trong từng nhóm năng lực [21 21 21 21 21 21 21 21 21 21 21 21 21 21 21 21 21 21 21 21 21 21 21 21\n",
      " 21 21 21 21 21 21 21 21 21]\n",
      "Xác suất trả lời đúng xủa từng nhóm năng lực theta: [0.         0.         0.         0.04761905 0.         0.\n",
      " 0.0952381  0.         0.04761905 0.14285714 0.14285714 0.04761905\n",
      " 0.0952381  0.14285714 0.42857143 0.38095238 0.61904762 0.42857143\n",
      " 0.19047619 0.47619048 0.66666667 0.71428571 0.85714286 0.71428571\n",
      " 0.95238095 0.80952381 0.85714286 0.95238095 1.         0.95238095\n",
      " 0.9047619  0.85714286 1.        ]\n"
     ]
    }
   ],
   "source": [
    "print(f\"Năng lực của từng nhóm thí sinh: {theta.flatten()}\")\n",
    "print(f\"Số lượng thí sinh trả lời đúng tại mỗi mức năng lực theta: {r2pl}\")\n",
    "print(f\"Số lượng thí sinh có trong từng nhóm năng lực {f2pl}\")\n",
    "print(f\"Xác suất trả lời đúng xủa từng nhóm năng lực theta: {p2pl}\")"
   ]
  },
  {
   "cell_type": "code",
   "execution_count": 50,
   "id": "34300fb3-9f9a-4762-b454-688042fa314c",
   "metadata": {
    "id": "34300fb3-9f9a-4762-b454-688042fa314c",
    "outputId": "b7e7a83f-77cf-4eed-96c4-29606a615ae4"
   },
   "outputs": [
    {
     "data": {
      "image/png": "[encoded data removed]",
      "text/plain": [
       "<Figure size 700x400 with 1 Axes>"
      ]
     },
     "metadata": {},
     "output_type": "display_data"
    }
   ],
   "source": [
    "plt.figure(figsize=(7, 4))\n",
    "plt.plot(theta, p2pl, 'o')  # Dùng 'o' để vẽ các chấm tròn\n",
    "# plt.xlim(-3, 3)\n",
    "# plt.ylim(0, 1)\n",
    "plt.xlabel(r\"Năng lực ($\\theta$)\")  # Sử dụng ký hiệu theta cho trục X\n",
    "plt.ylabel(\"Tỷ lệ câu trả lời đúng\")  # Trục Y bằng tiếng Việt\n",
    "# Lưu ảnh dưới dạng PNG\n",
    "plt.savefig('tyle.png', format='png')\n",
    "plt.show()"
   ]
  },
  {
   "cell_type": "code",
   "execution_count": 38,
   "id": "919f8624-ef1d-47bc-9d93-746334248459",
   "metadata": {
    "id": "919f8624-ef1d-47bc-9d93-746334248459"
   },
   "outputs": [],
   "source": [
    "def gradient2pl(theta, a, b, r, f, p, P):\n",
    "    L1 = 0\n",
    "    L2 = 0\n",
    "    for g in range(len(theta)):\n",
    "        L1 += f[g] * (theta[g] - b) * (p[g] - P[g])\n",
    "        L2 += a * f[g] * (-p[g] + P[g])\n",
    "    return np.array([L1[0], L2[0]])"
   ]
  },
  {
   "cell_type": "code",
   "execution_count": 39,
   "id": "9f63e2b2-7e20-48e8-aa61-997ac8944def",
   "metadata": {
    "id": "9f63e2b2-7e20-48e8-aa61-997ac8944def"
   },
   "outputs": [],
   "source": [
    "def hessian2pl(theta, a, b, r, f, p, P):\n",
    "    L11 = 0\n",
    "    L22 = 0\n",
    "    L12 = 0\n",
    "    for g in range(len(theta)):\n",
    "        L11 += -f[g] * (theta[g] - b) ** 2 * P[g] * (1 - P[g])\n",
    "        L22 += -a ** 2 * f[g] * P[g] * (1 - P[g])\n",
    "        L12 += -r[g] + f[g] * P[g] + a * (theta[g] - b) * f[g] * P[g] * (1 - P[g])\n",
    "    return np.array([[L11[0], L12[0]], [L12[0], L22[0]]])"
   ]
  },
  {
   "cell_type": "code",
   "execution_count": 40,
   "id": "cc4e3a1e-d3e1-4ee9-b2a1-2796a1486807",
   "metadata": {
    "id": "cc4e3a1e-d3e1-4ee9-b2a1-2796a1486807"
   },
   "outputs": [],
   "source": [
    "def estimate_parameters_2pl(theta, a, b, r, f, p, max_iterations = 100, tol = 10e-3):\n",
    "    es = np.array([a, b])\n",
    "    for i in range(max_iterations):\n",
    "        P = irt2pl(theta, es[0], es[1])\n",
    "        grad = gradient2pl(theta, es[0], es[1], r, f, p, P)\n",
    "        hess = hessian2pl(theta, es[0], es[1], r, f, p, P)\n",
    "        hess_inv = np.linalg.inv(hess)  # Tính nghịch đảo trước\n",
    "        delta = hess_inv @ grad         # Nhân ma trận\n",
    "        es_new = es - delta\n",
    "        norm_diff = np.linalg.norm(np.abs(es_new - es)) / len(es)\n",
    "        norm_grad = np.linalg.norm(np.abs(grad)) / len(es)\n",
    "\n",
    "        if norm_diff < tol or norm_grad < tol:\n",
    "            print(f\"Hội tụ sau {i + 1} lần!\")\n",
    "            break\n",
    "        es = es_new\n",
    "    P1 = irt2pl(theta, es[0], es[1])\n",
    "    cs = 0\n",
    "    for g in range(len(theta)):\n",
    "        v = f[g] * (p[g] - P1[g])**2 / (P1[g] - P1[g]**2)\n",
    "        cs += v\n",
    "    chi = chi2.ppf(0.95, df=31)\n",
    "    return es[0], es[1], cs, chi"
   ]
  },
  {
   "cell_type": "code",
   "execution_count": 41,
   "id": "db9e3e84-9dbc-4eda-9cc2-c7b3a654195a",
   "metadata": {
    "id": "db9e3e84-9dbc-4eda-9cc2-c7b3a654195a"
   },
   "outputs": [],
   "source": [
    "a_init = 1\n",
    "b_init = 0"
   ]
  },
  {
   "cell_type": "code",
   "execution_count": 42,
   "id": "13e16680-bd77-452f-9ae2-078aec931e9e",
   "metadata": {
    "id": "13e16680-bd77-452f-9ae2-078aec931e9e",
    "outputId": "eedbdd7e-6409-46b7-bb04-bb0fcd936c39"
   },
   "outputs": [
    {
     "name": "stdout",
     "output_type": "stream",
     "text": [
      "Hội tụ sau 4 lần!\n"
     ]
    }
   ],
   "source": [
    "a_es_2pl, b_es_2pl, cs_2pl, chi_2pl = estimate_parameters_2pl(theta, a_init, b_init, r2pl, f2pl, p2pl)"
   ]
  },
  {
   "cell_type": "code",
   "execution_count": 43,
   "id": "9cc39c15-34e3-4c9d-bac8-dd9e1e12e852",
   "metadata": {
    "id": "9cc39c15-34e3-4c9d-bac8-dd9e1e12e852",
    "outputId": "e68b5ca2-7dbf-4567-bca2-c128df54c2ef"
   },
   "outputs": [
    {
     "name": "stdout",
     "output_type": "stream",
     "text": [
      "a = 1.3968010225970338, b = 0.38082703143684193, cs = [45.14324047], chi = 44.98534328036513\n"
     ]
    }
   ],
   "source": [
    "print(f\"a = {a_es_2pl}, b = {b_es_2pl}, cs = {cs_2pl}, chi = {chi_2pl}\")"
   ]
  },
  {
   "cell_type": "code",
   "execution_count": 44,
   "id": "1c58847e-4512-484b-b1e6-1302bf005fb7",
   "metadata": {
    "id": "1c58847e-4512-484b-b1e6-1302bf005fb7"
   },
   "outputs": [],
   "source": [
    "P2pl = irt2pl(theta, a_es_2pl, b_es_2pl)"
   ]
  },
  {
   "cell_type": "code",
   "execution_count": 45,
   "id": "296a2672-50dd-4fd8-b1c1-f12924d64ede",
   "metadata": {
    "id": "296a2672-50dd-4fd8-b1c1-f12924d64ede",
    "outputId": "03f55ef4-210b-4c19-c0c9-0c5bf4424811"
   },
   "outputs": [
    {
     "data": {
      "image/png": "[encoded data removed]",
      "text/plain": [
       "<Figure size 700x400 with 1 Axes>"
      ]
     },
     "metadata": {},
     "output_type": "display_data"
    }
   ],
   "source": [
    "# Giả sử theta1 và p đã được định nghĩa trước đó, và P cũng đã được tính toán\n",
    "plt.figure(figsize=(7, 4))\n",
    "plt.plot(theta, p2pl, 'o', label=\"Dữ liệu quan sát\")  # Dùng 'o' để vẽ các chấm tròn\n",
    "plt.plot(theta, P2pl, label=\"Đường ICC\", color='r')  # Vẽ đường P với màu đỏ\n",
    "# plt.xlim(-3, 3)\n",
    "# plt.ylim(0, 1)\n",
    "plt.xlabel(r\"Năng lực ($\\theta$)\")  # Sử dụng ký hiệu theta cho trục X\n",
    "plt.ylabel(\"Tỷ lệ câu trả lời đúng\")  # Trục Y bằng tiếng Việt\n",
    "plt.legend()  # Hiển thị chú thích (legend)\n",
    "plt.savefig('tyle_2pl.png', format='png')\n",
    "plt.show()"
   ]
  },
  {
   "cell_type": "code",
   "execution_count": 46,
   "id": "1f30e019-f62f-4896-af1d-21a78ce1774b",
   "metadata": {
    "id": "1f30e019-f62f-4896-af1d-21a78ce1774b"
   },
   "outputs": [],
   "source": [
    "theta, r3pl, f3pl, p3pl = sinh_du_lieu(33, 1.4, 0.4, 0.17, 3)"
   ]
  },
  {
   "cell_type": "code",
   "execution_count": 47,
   "id": "214dd3fb-2324-4fff-a1c6-e0aaca14f255",
   "metadata": {
    "colab": {
     "base_uri": "https://localhost:8080/"
    },
    "id": "214dd3fb-2324-4fff-a1c6-e0aaca14f255",
    "outputId": "78492f3b-0dfd-4d99-d6ef-efc286479cb7"
   },
   "outputs": [
    {
     "name": "stdout",
     "output_type": "stream",
     "text": [
      "Năng lực của từng nhóm thí sinh: [-3.     -2.8125 -2.625  -2.4375 -2.25   -2.0625 -1.875  -1.6875 -1.5\n",
      " -1.3125 -1.125  -0.9375 -0.75   -0.5625 -0.375  -0.1875  0.      0.1875\n",
      "  0.375   0.5625  0.75    0.9375  1.125   1.3125  1.5     1.6875  1.875\n",
      "  2.0625  2.25    2.4375  2.625   2.8125  3.    ]\n",
      "Số lượng thí sinh trả lời đúng tại mỗi mức năng lực theta: [ 2  3  6  6  5  6  2  5  8  5  4  7 10  4 10 11  9  9 13 12 14 14 19 18\n",
      " 18 20 20 21 21 20 17 21 21]\n",
      "Số lượng thí sinh có trong từng nhóm năng lực [21 21 21 21 21 21 21 21 21 21 21 21 21 21 21 21 21 21 21 21 21 21 21 21\n",
      " 21 21 21 21 21 21 21 21 21]\n",
      "Xác suất trả lời đúng xủa từng nhóm năng lực theta: [0.0952381  0.14285714 0.28571429 0.28571429 0.23809524 0.28571429\n",
      " 0.0952381  0.23809524 0.38095238 0.23809524 0.19047619 0.33333333\n",
      " 0.47619048 0.19047619 0.47619048 0.52380952 0.42857143 0.42857143\n",
      " 0.61904762 0.57142857 0.66666667 0.66666667 0.9047619  0.85714286\n",
      " 0.85714286 0.95238095 0.95238095 1.         1.         0.95238095\n",
      " 0.80952381 1.         1.        ]\n"
     ]
    }
   ],
   "source": [
    "print(f\"Năng lực của từng nhóm thí sinh: {theta.flatten()}\")\n",
    "print(f\"Số lượng thí sinh trả lời đúng tại mỗi mức năng lực theta: {r3pl}\")\n",
    "print(f\"Số lượng thí sinh có trong từng nhóm năng lực {f3pl}\")\n",
    "print(f\"Xác suất trả lời đúng xủa từng nhóm năng lực theta: {p3pl}\")"
   ]
  },
  {
   "cell_type": "code",
   "execution_count": 51,
   "id": "23883bd6-8531-42f8-bc48-d85a205c99e2",
   "metadata": {
    "colab": {
     "base_uri": "https://localhost:8080/",
     "height": 392
    },
    "id": "23883bd6-8531-42f8-bc48-d85a205c99e2",
    "outputId": "835bc2ba-9559-41b8-fdb8-e8ce67eb0b7c"
   },
   "outputs": [
    {
     "data": {
      "image/png": "[encoded data removed]",
      "text/plain": [
       "<Figure size 700x400 with 1 Axes>"
      ]
     },
     "metadata": {},
     "output_type": "display_data"
    }
   ],
   "source": [
    "plt.figure(figsize=(7, 4))\n",
    "plt.plot(theta, p3pl, 'o')  # Dùng 'o' để vẽ các chấm tròn\n",
    "# plt.xlim(-3, 3)\n",
    "# plt.ylim(0, 1)\n",
    "plt.xlabel(r\"Năng lực ($\\theta$)\")  # Sử dụng ký hiệu theta cho trục X\n",
    "plt.ylabel(\"Tỷ lệ câu trả lời đúng\")  # Trục Y bằng tiếng Việt\n",
    "# Lưu ảnh dưới dạng PNG\n",
    "plt.savefig('tyle.png', format='png')\n",
    "plt.show()"
   ]
  },
  {
   "cell_type": "code",
   "execution_count": 52,
   "id": "fc9c8626-01f5-447c-a437-86035b4b52f9",
   "metadata": {
    "id": "fc9c8626-01f5-447c-a437-86035b4b52f9"
   },
   "outputs": [],
   "source": [
    "def gradient3pl(theta, a, b, c, r, f, p, P):\n",
    "    L1 = 0.0\n",
    "    L2 = 0.0\n",
    "    L3 = 0.0\n",
    "    for g in range(len(theta)):\n",
    "        P_g = P[g][0]  # Chỉ dùng P[g] nếu P là 1D\n",
    "        Q_g = 1 - P_g\n",
    "        P_star = a * (1 - c) * P_g * Q_g\n",
    "        ps = P_star / P_g\n",
    "\n",
    "        L1 += f[g] * (p[g] - P_g) * (theta[g] - b) * ps\n",
    "        L2 += -a * f[g] * (p[g] - P_g) * ps\n",
    "        L3 += f[g] * (p[g] - P_g) * (1 / (P_g - c)) * ps\n",
    "    return np.array([L1[0], L2, L3])"
   ]
  },
  {
   "cell_type": "code",
   "execution_count": 53,
   "id": "6423dc70-d844-4aaa-b6e5-67fb00b9ecab",
   "metadata": {
    "id": "6423dc70-d844-4aaa-b6e5-67fb00b9ecab"
   },
   "outputs": [],
   "source": [
    "def hessian3pl(theta, a, b, c, r, f, p, P):\n",
    "    L11 = 0.0\n",
    "    L22 = 0.0\n",
    "    L33 = 0.0\n",
    "    L12 = 0.0\n",
    "    L13 = 0.0\n",
    "    L23 = 0.0\n",
    "\n",
    "    for g in range(len(theta)):\n",
    "        P_g = P[g][0]      # đảm bảo là scalar\n",
    "        Q_g = 1 - P_g\n",
    "        P_star = a * (1 - c) * P_g * Q_g\n",
    "        ps = P_star / P_g\n",
    "\n",
    "        L11 += -f[g] * (theta[g] - b) ** 2 * P_g * Q_g * ps ** 2\n",
    "        L22 += -a ** 2 * f[g] * P_g * Q_g * ps ** 2\n",
    "        L33 += -f[g] * Q_g / (1 - c) * ps\n",
    "\n",
    "        L12 += a * f[g] * (theta[g] - b) * P_g * Q_g * ps ** 2\n",
    "        L13 += -f[g] * (theta[g] - b) * Q_g / (1 - c) * ps\n",
    "        L23 += a * f[g] * Q_g / (1 - c) * ps\n",
    "    return np.array([\n",
    "        [L11[0], L12[0], L13[0]],\n",
    "        [L12[0], L22, L23],\n",
    "        [L13[0], L23, L33]\n",
    "    ])"
   ]
  },
  {
   "cell_type": "code",
   "execution_count": 54,
   "id": "206ecb1b-dc0d-4d59-8f7f-85026599f784",
   "metadata": {
    "id": "206ecb1b-dc0d-4d59-8f7f-85026599f784"
   },
   "outputs": [],
   "source": [
    "def estimate_parameters_3pl(theta, a, b, c, r, f, p, max_iterations = 100, tol = 10e-3):\n",
    "    es = np.array([a, b, c])\n",
    "    for i in range(max_iterations):\n",
    "        P = irt3pl(theta, es[0], es[1], es[2])\n",
    "        grad = gradient3pl(theta, es[0], es[1], es[2], r, f, p, P)\n",
    "        hess = hessian3pl(theta, es[0], es[1], es[2], r, f, p, P)\n",
    "        try:\n",
    "           hess_inv = np.linalg.inv(hess)  # Tính nghịch đảo trước\n",
    "        except np.linalg.LinAlgError:\n",
    "            print(\"Ma trận Hessian suy biến, dừng lặp\")\n",
    "            break\n",
    "        delta = hess_inv @ grad         # Nhân ma trận\n",
    "        es_new = es - delta\n",
    "        norm_diff = np.linalg.norm(np.abs(es_new - es)) / len(es)\n",
    "        norm_grad = np.linalg.norm(np.abs(grad)) / len(es)\n",
    "        print(es_new)\n",
    "        if norm_diff < tol or norm_grad < tol:\n",
    "            print(f\"Hội tụ sau {i + 1} lần!\")\n",
    "            break\n",
    "        es = es_new\n",
    "    P1 = irt3pl(theta, es[0], es[1], es[2])\n",
    "    cs = 0\n",
    "    for g in range(len(theta)):\n",
    "        v = f[g] * (p[g] - P1[g])**2 / (P1[g] - P1[g]**2)\n",
    "        cs += v\n",
    "    chi = chi2.ppf(0.95, df=30)\n",
    "    return es[0], es[1], es[2], cs, chi"
   ]
  },
  {
   "cell_type": "code",
   "execution_count": 55,
   "id": "69ed7b88-cf6b-4e48-bed0-082375453cd9",
   "metadata": {
    "id": "69ed7b88-cf6b-4e48-bed0-082375453cd9"
   },
   "outputs": [],
   "source": [
    "a_init = 1\n",
    "b_init = 0\n",
    "c_init = 0.1"
   ]
  },
  {
   "cell_type": "code",
   "execution_count": null,
   "id": "f711ec08-a346-4b4d-803e-c1ded01ddc81",
   "metadata": {
    "id": "f711ec08-a346-4b4d-803e-c1ded01ddc81",
    "outputId": "6482eb95-c456-45d2-fbe1-a837ce0e5630",
    "scrolled": true
   },
   "outputs": [
    {
     "name": "stdout",
     "output_type": "stream",
     "text": [
      "[ 1.74981599 -1.36918411  0.12898441]\n",
      "[ 0.13023889 -0.02902942  0.18518049]\n",
      "[ 15.0386038  -41.87369834   0.20080534]\n",
      "Ma trận Hessian suy biến, dừng lặp\n"
     ]
    },
    {
     "name": "stderr",
     "output_type": "stream",
     "text": [
      "C:\\Users\\Do Duc Quang Phuong\\AppData\\Local\\Temp\\ipykernel_7828\\2118620403.py:24: RuntimeWarning: divide by zero encountered in divide\n",
      "  v = f[g] * (p[g] - P1[g])**2 / (P1[g] - P1[g]**2)\n",
      "C:\\Users\\Do Duc Quang Phuong\\AppData\\Local\\Temp\\ipykernel_7828\\2118620403.py:24: RuntimeWarning: invalid value encountered in divide\n",
      "  v = f[g] * (p[g] - P1[g])**2 / (P1[g] - P1[g]**2)\n"
     ]
    }
   ],
   "source": [
    "a_es_3pl, b_es_3pl, c_es_3pl, cs_3pl, chi_3pl = estimate_parameters_3pl(theta, a_init, b_init, c_init, r3pl, f3pl, p3pl)"
   ]
  },
  {
   "cell_type": "code",
   "execution_count": 56,
   "id": "b2ef28f5-3171-4066-a375-be3f0fc36952",
   "metadata": {
    "id": "b2ef28f5-3171-4066-a375-be3f0fc36952"
   },
   "outputs": [],
   "source": [
    "import irt_parameter_estimation"
   ]
  },
  {
   "cell_type": "code",
   "execution_count": 57,
   "id": "d67c3ba1-7472-4892-9c4a-59fa2985b256",
   "metadata": {
    "id": "d67c3ba1-7472-4892-9c4a-59fa2985b256",
    "outputId": "ab40932c-f2dd-484a-af8b-dcc868022165"
   },
   "outputs": [
    {
     "data": {
      "text/plain": [
       "array([-3.    , -2.8125, -2.625 , -2.4375, -2.25  , -2.0625, -1.875 ,\n",
       "       -1.6875, -1.5   , -1.3125, -1.125 , -0.9375, -0.75  , -0.5625,\n",
       "       -0.375 , -0.1875,  0.    ,  0.1875,  0.375 ,  0.5625,  0.75  ,\n",
       "        0.9375,  1.125 ,  1.3125,  1.5   ,  1.6875,  1.875 ,  2.0625,\n",
       "        2.25  ,  2.4375,  2.625 ,  2.8125,  3.    ])"
      ]
     },
     "execution_count": 57,
     "metadata": {},
     "output_type": "execute_result"
    }
   ],
   "source": [
    "theta = np.array(theta).flatten()\n",
    "theta"
   ]
  },
  {
   "cell_type": "code",
   "execution_count": 62,
   "id": "84f82149-7d39-4f2b-a439-f8b153b2b919",
   "metadata": {
    "id": "84f82149-7d39-4f2b-a439-f8b153b2b919",
    "outputId": "b22b3af0-a45a-487e-ac63-fcd901a20da8"
   },
   "outputs": [
    {
     "name": "stdout",
     "output_type": "stream",
     "text": [
      "21 iterations in root\n",
      "3PL fit (a/b/c formulation): a=1.4887052775483185, b=0.41087808000023074, c=0.2031761422158637, error=43.84246510872811, success? True\n"
     ]
    }
   ],
   "source": [
    "a, b, c, chi2, success = irt_parameter_estimation.abc.mle_abc(3, theta, r3pl, f3pl, a_init, b_init, c_init)\n",
    "print(f\"3PL fit (a/b/c formulation): a={a}, b={b}, c={c}, error={chi2}, success? {success}\")"
   ]
  },
  {
   "cell_type": "code",
   "execution_count": 64,
   "id": "af68717b-31d5-4a26-8bae-f6429e78654e",
   "metadata": {},
   "outputs": [],
   "source": [
    "from scipy.stats import chi2"
   ]
  },
  {
   "cell_type": "code",
   "execution_count": 65,
   "id": "def63495-9e6f-41d7-bd18-230cbe9684f9",
   "metadata": {
    "id": "def63495-9e6f-41d7-bd18-230cbe9684f9"
   },
   "outputs": [],
   "source": [
    "P1 = irt3pl(theta, a, b, c)\n",
    "cs = 0\n",
    "for g in range(len(theta)):\n",
    "    v = f3pl[g] * (p3pl[g] - P1[g])**2 / (P1[g] - P1[g]**2)\n",
    "    cs += v\n",
    "chichi_sq_value = chi2.ppf(0.95, df=30)"
   ]
  },
  {
   "cell_type": "code",
   "execution_count": 66,
   "id": "f573742b-131e-4526-81f8-4007f6156b8b",
   "metadata": {
    "id": "f573742b-131e-4526-81f8-4007f6156b8b",
    "outputId": "6d07ef21-beb2-4e82-b4f8-b1123c70e492"
   },
   "outputs": [
    {
     "name": "stdout",
     "output_type": "stream",
     "text": [
      "43.84246510872816\n",
      "43.77297182574219\n"
     ]
    }
   ],
   "source": [
    "print(cs)\n",
    "print(chichi_sq_value)"
   ]
  },
  {
   "cell_type": "code",
   "execution_count": 67,
   "id": "0672ae96-e46f-44a4-8215-ea4d26123dec",
   "metadata": {
    "id": "0672ae96-e46f-44a4-8215-ea4d26123dec",
    "outputId": "781ede23-62d5-41d3-c7a0-c650baa5d6f2"
   },
   "outputs": [
    {
     "data": {
      "image/png": "[encoded data removed]",
      "text/plain": [
       "<Figure size 700x400 with 1 Axes>"
      ]
     },
     "metadata": {},
     "output_type": "display_data"
    }
   ],
   "source": [
    "# Giả sử theta1 và p đã được định nghĩa trước đó, và P cũng đã được tính toán\n",
    "plt.figure(figsize=(7, 4))\n",
    "plt.plot(theta, p3pl, 'o', label=\"Dữ liệu quan sát\")  # Dùng 'o' để vẽ các chấm tròn\n",
    "plt.plot(theta, P1, label=\"Đường ICC\", color='r')  # Vẽ đường P với màu đỏ\n",
    "# plt.xlim(-3, 3)\n",
    "# plt.ylim(0, 1)\n",
    "plt.xlabel(r\"Năng lực ($\\theta$)\")  # Sử dụng ký hiệu theta cho trục X\n",
    "plt.ylabel(\"Tỷ lệ câu trả lời đúng\")  # Trục Y bằng tiếng Việt\n",
    "plt.legend()  # Hiển thị chú thích (legend)\n",
    "plt.savefig('tyle_2pl.png', format='png')\n",
    "plt.show()"
   ]
  },
  {
   "cell_type": "code",
   "execution_count": 68,
   "id": "2d773087-6bf0-489f-98ab-784f22bdd056",
   "metadata": {
    "id": "2d773087-6bf0-489f-98ab-784f22bdd056"
   },
   "outputs": [],
   "source": [
    "def estimate_parameters_1pl_map(theta, b, r, f, p, mean = 0, std = 1, max_iterations = 100, tol = 10e-3):\n",
    "    b_es = b\n",
    "    for i in range(max_iterations):\n",
    "        P = irt1pl(theta, b_es)\n",
    "        grad = 0\n",
    "        hess = 0\n",
    "        for g in range(len(theta)):\n",
    "            grad += -r[g] + f[g] * P[g] - (b_es - mean) / std ** 2\n",
    "            hess += f[g] * P[g] * (1 - P[g]) + 1 / std ** 2\n",
    "\n",
    "        delta = grad / hess\n",
    "        es_new = b_es + delta\n",
    "\n",
    "        if np.abs(delta) < tol:\n",
    "            print(f\"Hội tụ sau {i + 1} lần!\")\n",
    "            break\n",
    "        b_es = es_new\n",
    "    P1 = irt1pl(theta, b_es)\n",
    "    cs = 0\n",
    "    for g in range(len(theta)):\n",
    "        v = f[g] * (p[g] - P1[g])**2 / (P1[g] - P1[g]**2)\n",
    "        cs += v\n",
    "    chi = chi2.ppf(0.95, df=32)\n",
    "    return b_es, cs, chi"
   ]
  },
  {
   "cell_type": "code",
   "execution_count": 69,
   "id": "3a1e87d5-69bb-4a4d-9f42-8da0999270bd",
   "metadata": {
    "id": "3a1e87d5-69bb-4a4d-9f42-8da0999270bd",
    "outputId": "14735f99-bb16-4338-899b-4ced33b9f60c"
   },
   "outputs": [
    {
     "name": "stdout",
     "output_type": "stream",
     "text": [
      "Hội tụ sau 2 lần!\n"
     ]
    }
   ],
   "source": [
    "b_es_1pl_map, cs_1pl_map, chi_1pl_map = estimate_parameters_1pl_map(theta, b_init, r1pl, f1pl, p1pl)"
   ]
  },
  {
   "cell_type": "code",
   "execution_count": 70,
   "id": "bf7b2e41-f103-44f7-96f5-4b78ce3289aa",
   "metadata": {
    "id": "bf7b2e41-f103-44f7-96f5-4b78ce3289aa",
    "outputId": "933367b7-0490-4cca-b26b-dd89b94ef099",
    "scrolled": true
   },
   "outputs": [
    {
     "name": "stdout",
     "output_type": "stream",
     "text": [
      "0.18108110929899324 36.35636540374039 46.19425952027847\n"
     ]
    }
   ],
   "source": [
    "print(b_es_1pl_map, cs_1pl_map, chi_1pl_map)"
   ]
  },
  {
   "cell_type": "code",
   "execution_count": 72,
   "id": "b8dec58f-8cf3-4270-b5f8-c6c2ea57fed5",
   "metadata": {
    "id": "b8dec58f-8cf3-4270-b5f8-c6c2ea57fed5"
   },
   "outputs": [],
   "source": [
    "P1pl = irt1pl(theta, b_es_1pl_map)"
   ]
  },
  {
   "cell_type": "code",
   "execution_count": 74,
   "id": "828d70e4-1e25-4467-88d9-356a4cc23ce2",
   "metadata": {
    "id": "828d70e4-1e25-4467-88d9-356a4cc23ce2",
    "outputId": "551c6ef1-b1c2-446a-d851-4da1fca27b65"
   },
   "outputs": [
    {
     "data": {
      "image/png": "[encoded data removed]",
      "text/plain": [
       "<Figure size 700x400 with 1 Axes>"
      ]
     },
     "metadata": {},
     "output_type": "display_data"
    }
   ],
   "source": [
    "# Giả sử theta1 và p đã được định nghĩa trước đó, và P cũng đã được tính toán\n",
    "plt.figure(figsize=(7, 4))\n",
    "plt.plot(theta, p1pl, 'o', label=\"Dữ liệu quan sát\")  # Dùng 'o' để vẽ các chấm tròn\n",
    "plt.plot(theta, P1pl, label=\"Đường ICC\", color='r')  # Vẽ đường P với màu đỏ\n",
    "# plt.xlim(-3, 3)\n",
    "# plt.ylim(0, 1)\n",
    "plt.xlabel(r\"Năng lực ($\\theta$)\")  # Sử dụng ký hiệu theta cho trục X\n",
    "plt.ylabel(\"Tỷ lệ câu trả lời đúng\")  # Trục Y bằng tiếng Việt\n",
    "plt.legend()  # Hiển thị chú thích (legend)\n",
    "plt.savefig('tyle_2pl.png', format='png')\n",
    "plt.show()"
   ]
  },
  {
   "cell_type": "code",
   "execution_count": 75,
   "id": "9989dc56-f7d2-4dcd-a8b9-ed0010d2fe1f",
   "metadata": {
    "id": "9989dc56-f7d2-4dcd-a8b9-ed0010d2fe1f"
   },
   "outputs": [],
   "source": [
    "def gradient_map_2pl(theta, a, b, r, f, p, P, mean, std, v):\n",
    "    L1 = 0\n",
    "    L2 = 0\n",
    "    for g in range(len(theta)):\n",
    "        L1 += f[g] * (theta[g] - b) * (p[g] - P[g]) + (v - 1) / a - a\n",
    "        L2 += a * f[g] * (-p[g] + P[g]) - (b - mean) / std ** 2\n",
    "    return np.array([L1, L2])"
   ]
  },
  {
   "cell_type": "code",
   "execution_count": 76,
   "id": "f79270ab-3741-4b16-a3f1-cd2849805176",
   "metadata": {
    "id": "f79270ab-3741-4b16-a3f1-cd2849805176"
   },
   "outputs": [],
   "source": [
    "def hessian_map_2pl(theta, a, b, r, f, p, P, mean, std, v):\n",
    "    L11 = 0\n",
    "    L22 = 0\n",
    "    L12 = 0\n",
    "    for g in range(len(theta)):\n",
    "        L11 += -f[g] * (theta[g] - b) ** 2 * P[g] * (1 - P[g]) + (v - 1) / a ** 2 - 1\n",
    "        L22 += -a ** 2 * f[g] * P[g] * (1 - P[g]) - 1 / std ** 2\n",
    "        L12 += -r[g] + f[g] * P[g] + a * (theta[g] - b) * f[g] * P[g] * (1 - P[g])\n",
    "    return np.array([[L11, L12], [L12, L22]])"
   ]
  },
  {
   "cell_type": "code",
   "execution_count": 77,
   "id": "5d3b4350-a79c-4075-bd9f-852ab5c95355",
   "metadata": {
    "id": "5d3b4350-a79c-4075-bd9f-852ab5c95355"
   },
   "outputs": [],
   "source": [
    "def estimate_parameters_2pl_map(theta, a, b, r, f, p, max_iterations = 100, tol = 10e-3, mean = 0, std = 1, v = 10):\n",
    "    es = np.array([a, b])\n",
    "    for i in range(max_iterations):\n",
    "        P = irt2pl(theta, es[0], es[1])\n",
    "        grad = gradient_map_2pl(theta, es[0], es[1], r, f, p, P, mean, std, v)\n",
    "        hess = hessian_map_2pl(theta, es[0], es[1], r, f, p, P, mean, std, v)\n",
    "        hess_inv = np.linalg.inv(hess)  # Tính nghịch đảo trước\n",
    "        delta = hess_inv @ grad         # Nhân ma trận\n",
    "        es_new = es - delta\n",
    "        norm_diff = np.linalg.norm(np.abs(es_new - es)) / len(es)\n",
    "        norm_grad = np.linalg.norm(np.abs(grad)) / len(es)\n",
    "\n",
    "        if norm_diff < tol or norm_grad < tol:\n",
    "            print(f\"Hội tụ sau {i + 1} lần!\")\n",
    "            break\n",
    "        es = es_new\n",
    "    P1 = irt2pl(theta, es[0], es[1])\n",
    "    cs = 0\n",
    "    for g in range(len(theta)):\n",
    "        v = f[g] * (p[g] - P1[g])**2 / (P1[g] - P1[g]**2)\n",
    "        cs += v\n",
    "    chi = chi2.ppf(0.95, df=31)\n",
    "    return es[0], es[1], cs, chi"
   ]
  },
  {
   "cell_type": "code",
   "execution_count": 79,
   "id": "16c2c1f8-0cbe-4be7-82b9-3da24aa851ee",
   "metadata": {
    "id": "16c2c1f8-0cbe-4be7-82b9-3da24aa851ee",
    "outputId": "0dabe70b-fa59-42ab-fd9a-f311e9b24d37"
   },
   "outputs": [
    {
     "name": "stdout",
     "output_type": "stream",
     "text": [
      "Hội tụ sau 10 lần!\n",
      "1.4132168050684217 0.3132575026857251 47.16270966077577 44.98534328036513\n"
     ]
    }
   ],
   "source": [
    "a_es_2pl_map, b_es_2pl_map, cs, chi = estimate_parameters_2pl_map(theta, a_init, b_init, r2pl, f2pl, p2pl, v = 3)\n",
    "print(a_es_2pl_map, b_es_2pl_map, cs, chi)"
   ]
  },
  {
   "cell_type": "code",
   "execution_count": 80,
   "id": "64f80fc4-125c-4ea8-8931-ea92e4c696e4",
   "metadata": {
    "id": "64f80fc4-125c-4ea8-8931-ea92e4c696e4"
   },
   "outputs": [],
   "source": [
    "P2pl = irt2pl(theta, a_es_2pl_map, b_es_2pl_map)"
   ]
  },
  {
   "cell_type": "code",
   "execution_count": 81,
   "id": "557c6765-cbb4-406b-bae8-b20b57e1a10a",
   "metadata": {
    "id": "557c6765-cbb4-406b-bae8-b20b57e1a10a",
    "outputId": "d4f272d0-1714-4363-c0d3-cf5e8e21103c"
   },
   "outputs": [
    {
     "data": {
      "image/png": "[encoded data removed]",
      "text/plain": [
       "<Figure size 700x400 with 1 Axes>"
      ]
     },
     "metadata": {},
     "output_type": "display_data"
    }
   ],
   "source": [
    "# Giả sử theta1 và p đã được định nghĩa trước đó, và P cũng đã được tính toán\n",
    "plt.figure(figsize=(7, 4))\n",
    "plt.plot(theta, p2pl, 'o', label=\"Dữ liệu quan sát\")  # Dùng 'o' để vẽ các chấm tròn\n",
    "plt.plot(theta, P2pl, label=\"Đường ICC\", color='r')  # Vẽ đường P với màu đỏ\n",
    "# plt.xlim(-3, 3)\n",
    "# plt.ylim(0, 1)\n",
    "plt.xlabel(r\"Năng lực ($\\theta$)\")  # Sử dụng ký hiệu theta cho trục X\n",
    "plt.ylabel(\"Tỷ lệ câu trả lời đúng\")  # Trục Y bằng tiếng Việt\n",
    "plt.legend()  # Hiển thị chú thích (legend)\n",
    "plt.savefig('tyle_2pl.png', format='png')\n",
    "plt.show()"
   ]
  },
  {
   "cell_type": "code",
   "execution_count": 13,
   "id": "CcHy0LhMQzzv",
   "metadata": {
    "id": "CcHy0LhMQzzv"
   },
   "outputs": [],
   "source": [
    "def gradient_map_3pl(theta, a, b, c, r, f, p, P, mean, std, v, alpha, beta):\n",
    "    L1 = 0.0\n",
    "    L2 = 0.0\n",
    "    L3 = 0.0\n",
    "    for g in range(len(theta)):\n",
    "        P_g = P[g][0]  # Chỉ dùng P[g] nếu P là 1D\n",
    "        Q_g = 1 - P_g\n",
    "        P_star = a * (1 - c) * P_g * Q_g\n",
    "        ps = P_star / P_g\n",
    "\n",
    "        L1 += f[g] * (p[g] - P_g) * (theta[g] - b) * ps + (v - 1) / a - a\n",
    "        L2 += -a * f[g] * (p[g] - P_g) * ps - (b - mean) / std ** 2\n",
    "        L3 += f[g] * (p[g] - P_g) * (1 / (P_g - c)) * ps + (alpha - 1) / c + (beta - 1) / (1 - c)\n",
    "    return np.array([L1[0], L2, L3])"
   ]
  },
  {
   "cell_type": "code",
   "execution_count": 14,
   "id": "S-Y3hC9uQ_Jj",
   "metadata": {
    "id": "S-Y3hC9uQ_Jj"
   },
   "outputs": [],
   "source": [
    "def hessian_map_3pl(theta, a, b, c, r, f, p, P, mean, std, v, alpha, beta):\n",
    "    L11 = 0.0\n",
    "    L22 = 0.0\n",
    "    L33 = 0.0\n",
    "    L12 = 0.0\n",
    "    L13 = 0.0\n",
    "    L23 = 0.0\n",
    "\n",
    "    for g in range(len(theta)):\n",
    "        P_g = P[g][0]      # đảm bảo là scalar\n",
    "        Q_g = 1 - P_g\n",
    "        P_star = a * (1 - c) * P_g * Q_g\n",
    "        ps = P_star / P_g\n",
    "\n",
    "        L11 += -f[g] * (theta[g] - b) ** 2 * P_g * Q_g * ps ** 2 - (v - 1) / a ** 2 - 1\n",
    "        L22 += -a ** 2 * f[g] * P_g * Q_g * ps ** 2 - 1 / std ** 2\n",
    "        L33 += -f[g] * Q_g / (1 - c) * ps - (alpha - 1) / c ** 2 - (beta - 1) / (1 - c) ** 2\n",
    "\n",
    "        L12 += a * f[g] * (theta[g] - b) * P_g * Q_g * ps ** 2\n",
    "        L13 += -f[g] * (theta[g] - b) * Q_g / (1 - c) * ps\n",
    "        L23 += a * f[g] * Q_g / (1 - c) * ps\n",
    "    return np.array([\n",
    "        [L11[0], L12[0], L13[0]],\n",
    "        [L12[0], L22, L23],\n",
    "        [L13[0], L23, L33]\n",
    "    ])"
   ]
  },
  {
   "cell_type": "code",
   "execution_count": 15,
   "id": "aLzQuft7RHn-",
   "metadata": {
    "id": "aLzQuft7RHn-"
   },
   "outputs": [],
   "source": [
    "def estimate_parameters_map_3pl(theta, a, b, c, r, f, p, max_iterations = 100, tol = 10e-3, mean = 0, std = 1, v = 10, alpha = 2, beta = 11):\n",
    "    es = np.array([a, b, c])\n",
    "    for i in range(max_iterations):\n",
    "        P = irt3pl(theta, es[0], es[1], es[2])\n",
    "        grad = gradient_map_3pl(theta, es[0], es[1], es[2], r, f, p, P, mean, std, v, alpha, beta)\n",
    "        hess = hessian_map_3pl(theta, es[0], es[1], es[2], r, f, p, P, mean, std, v, alpha, beta)\n",
    "        try:\n",
    "           hess_inv = np.linalg.inv(hess)  # Tính nghịch đảo trước\n",
    "        except np.linalg.LinAlgError:\n",
    "            print(\"Ma trận Hessian suy biến, dừng lặp\")\n",
    "            break\n",
    "        delta = hess_inv @ grad         # Nhân ma trận\n",
    "        es_new = es - delta\n",
    "        norm_diff = np.linalg.norm(np.abs(es_new - es)) / len(es)\n",
    "        norm_grad = np.linalg.norm(np.abs(grad)) / len(es)\n",
    "        print(es_new)\n",
    "        if norm_diff < tol or norm_grad < tol:\n",
    "            print(f\"Hội tụ sau {i + 1} lần!\")\n",
    "            break\n",
    "        es = es_new\n",
    "    P1 = irt3pl(theta, es[0], es[1], es[2])\n",
    "    cs = 0\n",
    "    for g in range(len(theta)):\n",
    "        v = f[g] * (p[g] - P1[g])**2 / (P1[g] - P1[g]**2)\n",
    "        cs += v\n",
    "    chi = chi2.ppf(0.95, df=30)\n",
    "    return es[0], es[1], es[2], cs, chi"
   ]
  },
  {
   "cell_type": "code",
   "execution_count": 18,
   "id": "PjK9OU4aU2_r",
   "metadata": {
    "colab": {
     "base_uri": "https://localhost:8080/"
    },
    "id": "PjK9OU4aU2_r",
    "outputId": "8a1a149b-1e3d-4789-f340-80e19f24bc16"
   },
   "outputs": [
    {
     "name": "stdout",
     "output_type": "stream",
     "text": [
      "[ 1.82733321 -0.0781846   0.34432375]\n",
      "[ -2.15598908 -24.68494559 -11.21113093]\n",
      "[ inf -inf  inf]\n",
      "[nan nan nan]\n",
      "[nan nan nan]\n",
      "[nan nan nan]\n",
      "[nan nan nan]\n",
      "[nan nan nan]\n",
      "[nan nan nan]\n",
      "[nan nan nan]\n",
      "[nan nan nan]\n",
      "[nan nan nan]\n",
      "[nan nan nan]\n",
      "[nan nan nan]\n",
      "[nan nan nan]\n",
      "[nan nan nan]\n",
      "[nan nan nan]\n",
      "[nan nan nan]\n",
      "[nan nan nan]\n",
      "[nan nan nan]\n",
      "[nan nan nan]\n",
      "[nan nan nan]\n",
      "[nan nan nan]\n",
      "[nan nan nan]\n",
      "[nan nan nan]\n",
      "[nan nan nan]\n",
      "[nan nan nan]\n",
      "[nan nan nan]\n",
      "[nan nan nan]\n",
      "[nan nan nan]\n",
      "[nan nan nan]\n",
      "[nan nan nan]\n",
      "[nan nan nan]\n",
      "[nan nan nan]\n",
      "[nan nan nan]\n",
      "[nan nan nan]\n",
      "[nan nan nan]\n",
      "[nan nan nan]\n",
      "[nan nan nan]\n",
      "[nan nan nan]\n",
      "[nan nan nan]\n",
      "[nan nan nan]\n",
      "[nan nan nan]\n",
      "[nan nan nan]\n",
      "[nan nan nan]\n",
      "[nan nan nan]\n",
      "[nan nan nan]\n",
      "[nan nan nan]\n",
      "[nan nan nan]\n",
      "[nan nan nan]\n",
      "[nan nan nan]\n",
      "[nan nan nan]\n",
      "[nan nan nan]\n",
      "[nan nan nan]\n",
      "[nan nan nan]\n",
      "[nan nan nan]\n",
      "[nan nan nan]\n",
      "[nan nan nan]\n",
      "[nan nan nan]\n",
      "[nan nan nan]\n",
      "[nan nan nan]\n",
      "[nan nan nan]\n",
      "[nan nan nan]\n",
      "[nan nan nan]\n",
      "[nan nan nan]\n",
      "[nan nan nan]\n",
      "[nan nan nan]\n",
      "[nan nan nan]\n",
      "[nan nan nan]\n",
      "[nan nan nan]\n",
      "[nan nan nan]\n",
      "[nan nan nan]\n",
      "[nan nan nan]\n",
      "[nan nan nan]\n",
      "[nan nan nan]\n",
      "[nan nan nan]\n",
      "[nan nan nan]\n",
      "[nan nan nan]\n",
      "[nan nan nan]\n",
      "[nan nan nan]\n",
      "[nan nan nan]\n",
      "[nan nan nan]\n",
      "[nan nan nan]\n",
      "[nan nan nan]\n",
      "[nan nan nan]\n",
      "[nan nan nan]\n",
      "[nan nan nan]\n",
      "[nan nan nan]\n"
     ]
    },
    {
     "name": "stderr",
     "output_type": "stream",
     "text": [
      "<ipython-input-13-990b568a6352>:13: RuntimeWarning: divide by zero encountered in scalar divide\n",
      "  L3 += f[g] * (p[g] - P_g) * (1 / (P_g - c)) * ps + (alpha - 1) / c + (beta - 1) / (1 - c)\n",
      "<ipython-input-4-034421b3f0d3>:2: RuntimeWarning: invalid value encountered in add\n",
      "  return c + (1 - c) * expit(a * (theta - b))\n"
     ]
    },
    {
     "name": "stdout",
     "output_type": "stream",
     "text": [
      "[nan nan nan]\n",
      "[nan nan nan]\n",
      "[nan nan nan]\n",
      "[nan nan nan]\n",
      "[nan nan nan]\n",
      "[nan nan nan]\n",
      "[nan nan nan]\n",
      "[nan nan nan]\n",
      "[nan nan nan]\n",
      "[nan nan nan]\n",
      "[nan nan nan]\n",
      "[nan nan nan]\n"
     ]
    }
   ],
   "source": [
    "a_es_3pl, b_es_3pl, c_es_3pl, cs_3pl, chi_3pl = estimate_parameters_map_3pl(theta, a_init, b_init, c_init, r3pl, f3pl, p3pl)"
   ]
  }
 ],
 "metadata": {
  "colab": {
   "provenance": []
  },
  "kernelspec": {
   "display_name": "Python 3 (ipykernel)",
   "language": "python",
   "name": "python3"
  },
  "language_info": {
   "codemirror_mode": {
    "name": "ipython",
    "version": 3
   },
   "file_extension": ".py",
   "mimetype": "text/x-python",
   "name": "python",
   "nbconvert_exporter": "python",
   "pygments_lexer": "ipython3",
   "version": "3.12.7"
  }
 },
 "nbformat": 4,
 "nbformat_minor": 5
}
