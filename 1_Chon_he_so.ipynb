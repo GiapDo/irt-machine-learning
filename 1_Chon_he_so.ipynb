{
 "cells": [
  {
   "cell_type": "code",
   "execution_count": 1,
   "metadata": {
    "colab": {
     "base_uri": "https://localhost:8080/"
    },
    "executionInfo": {
     "elapsed": 20,
     "status": "ok",
     "timestamp": 1746470529597,
     "user": {
      "displayName": "Đỗ Đức Quang Phương",
      "userId": "10704898037128586380"
     },
     "user_tz": -420
    },
    "id": "o0LgStLCvVuf",
    "outputId": "5a2721d5-7b09-4ab1-b312-e19a89bb906a"
   },
   "outputs": [
    {
     "name": "stdout",
     "output_type": "stream",
     "text": [
      "Khoảng tin cậy 95%: (0.021, 0.385)\n"
     ]
    }
   ],
   "source": [
    "from scipy.stats import beta\n",
    "\n",
    "# Beta(2.0, 11.0)\n",
    "a = 2.0\n",
    "b = 11.0\n",
    "\n",
    "# Tính khoảng tin cậy 95%\n",
    "lower = beta.ppf(0.025, a, b)\n",
    "upper = beta.ppf(0.975, a, b)\n",
    "\n",
    "print(f\"Khoảng tin cậy 95%: ({lower:.3f}, {upper:.3f})\")"
   ]
  },
  {
   "cell_type": "code",
   "execution_count": 2,
   "metadata": {
    "colab": {
     "base_uri": "https://localhost:8080/"
    },
    "executionInfo": {
     "elapsed": 44,
     "status": "ok",
     "timestamp": 1746470882605,
     "user": {
      "displayName": "Đỗ Đức Quang Phương",
      "userId": "10704898037128586380"
     },
     "user_tz": -420
    },
    "id": "IQ4DqcqxxkbO",
    "outputId": "fe81e907-e3d4-469c-8d38-c350caf89970"
   },
   "outputs": [
    {
     "name": "stdout",
     "output_type": "stream",
     "text": [
      "Giá trị ước lượng của v là: 3.865\n"
     ]
    }
   ],
   "source": [
    "\n",
    "from scipy.stats import norm\n",
    "\n",
    "def estimate_v(a1, a2, alpha=0.01):\n",
    "    # Tính z_(alpha/2) từ phân phối chuẩn\n",
    "    z = norm.ppf(1 - alpha / 2)\n",
    "\n",
    "    # Tính v theo công thức\n",
    "    numerator = (a2 + a1)**2\n",
    "    denominator = (a2 - a1)**2\n",
    "    v = 0.5 * (1 + (z**2) * (numerator / denominator))\n",
    "\n",
    "    return v\n",
    "\n",
    "# Ví dụ: khoảng tin cậy 99% (alpha = 0.01), a1 = 0.63, a2 = 2.45\n",
    "v = estimate_v(a1=0.01, a2=2.8, alpha=0.01)\n",
    "print(f\"Giá trị ước lượng của v là: {v:.3f}\")"
   ]
  }
 ],
 "metadata": {
  "colab": {
   "authorship_tag": "ABX9TyNEWfTl7FTXf2eIzCIbr5JS",
   "provenance": []
  },
  "kernelspec": {
   "display_name": "Python 3 (ipykernel)",
   "language": "python",
   "name": "python3"
  },
  "language_info": {
   "codemirror_mode": {
    "name": "ipython",
    "version": 3
   },
   "file_extension": ".py",
   "mimetype": "text/x-python",
   "name": "python",
   "nbconvert_exporter": "python",
   "pygments_lexer": "ipython3",
   "version": "3.12.7"
  }
 },
 "nbformat": 4,
 "nbformat_minor": 4
}
