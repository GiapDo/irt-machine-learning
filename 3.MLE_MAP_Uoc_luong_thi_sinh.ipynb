{
 "cells": [
  {
   "cell_type": "code",
   "execution_count": 1,
   "id": "ed949e0c-79b1-4e5f-93a1-c060d6eb43b7",
   "metadata": {},
   "outputs": [],
   "source": [
    "import numpy as np\n",
    "from scipy.special import expit"
   ]
  },
  {
   "cell_type": "code",
   "execution_count": 2,
   "id": "33d99962-22b6-449e-bb88-eb379a1c5180",
   "metadata": {},
   "outputs": [],
   "source": [
    "def irt1pl(theta, b):\n",
    "    return expit(theta -b)"
   ]
  },
  {
   "cell_type": "code",
   "execution_count": 3,
   "id": "224bfe4d-5055-4fb1-b5ea-506692b72b54",
   "metadata": {},
   "outputs": [],
   "source": [
    "def irt2pl(theta, a, b):\n",
    "    return expit(a * (theta - b))"
   ]
  },
  {
   "cell_type": "code",
   "execution_count": 4,
   "id": "e37bb7c1-1ffb-4f3f-9159-a6c9ed3f723a",
   "metadata": {},
   "outputs": [],
   "source": [
    "def irt3pl(theta, a, b, c):\n",
    "    return c + (1 - c) * expit(a * (theta - b))"
   ]
  },
  {
   "cell_type": "code",
   "execution_count": 5,
   "id": "e54044b7-f8d6-4b3e-bad1-5912d12d12aa",
   "metadata": {},
   "outputs": [],
   "source": [
    "from scipy.stats import chi2, norm, beta"
   ]
  },
  {
   "cell_type": "code",
   "execution_count": 6,
   "id": "c1bc69ba-ea40-4c34-8ef8-bd124f2d945e",
   "metadata": {},
   "outputs": [],
   "source": [
    "def simulate_irt_responses(model=\"1PL\", num_items=50, theta=0.5, threshold=0.5, seed=None):\n",
    "\n",
    "    if seed is not None:\n",
    "        np.random.seed(seed)\n",
    "\n",
    "    # Sinh tham số\n",
    "    a_raw = chi2.rvs(df=3, size=num_items)\n",
    "    a = np.interp(a_raw, (a_raw.min(), a_raw.max()), (0.1, 2.8))\n",
    "    b = np.clip(norm.rvs(loc=0, scale=1, size=num_items), -3, 3)\n",
    "    c_raw = beta.rvs(5, 17, size=num_items)\n",
    "    c = c_raw * 0.35\n",
    "\n",
    "    # Điều chỉnh theo mô hình\n",
    "    if model == \"1PL\":\n",
    "        a = np.ones(num_items)\n",
    "        c = np.zeros(num_items)\n",
    "    elif model == \"2PL\":\n",
    "        c = np.zeros(num_items)\n",
    "    elif model != \"3PL\":\n",
    "        raise ValueError(\"Chỉ hỗ trợ '1PL', '2PL', hoặc '3PL'.\")\n",
    "\n",
    "    # Tính xác suất đúng\n",
    "    z = a * (theta - b)\n",
    "    p = c + (1 - c) * 1 / (1 + np.exp(-z))\n",
    "\n",
    "    # Phản hồi xác định: p >= threshold → đúng (1), ngược lại sai (0)\n",
    "    responses = (p >= threshold).astype(int)\n",
    "\n",
    "    return responses, {\"a\": a, \"b\": b, \"c\": c, \"theta\": theta, \"p\": p}"
   ]
  },
  {
   "cell_type": "code",
   "execution_count": 7,
   "id": "6e473f07-0f1a-4c93-81af-b8488b46e616",
   "metadata": {},
   "outputs": [],
   "source": [
    "theta_true = 0.5\n",
    "responses1pl, dl1pl = simulate_irt_responses(theta = theta_true)"
   ]
  },
  {
   "cell_type": "code",
   "execution_count": 8,
   "id": "453aa282-b62d-4f01-9b30-648b3796c215",
   "metadata": {},
   "outputs": [
    {
     "data": {
      "text/plain": [
       "array([0, 1, 1, 1, 1, 0, 1, 0, 0, 1, 1, 0, 1, 1, 0, 1, 1, 0, 1, 1, 1, 0,\n",
       "       1, 1, 1, 1, 1, 1, 1, 1, 1, 0, 1, 0, 0, 1, 1, 0, 1, 0, 0, 1, 1, 0,\n",
       "       1, 1, 1, 1, 1, 0])"
      ]
     },
     "execution_count": 8,
     "metadata": {},
     "output_type": "execute_result"
    }
   ],
   "source": [
    "responses1pl"
   ]
  },
  {
   "cell_type": "code",
   "execution_count": 9,
   "id": "1f20fdc1-fc13-43dd-9b46-fd58649be8bf",
   "metadata": {},
   "outputs": [
    {
     "data": {
      "text/plain": [
       "array([ 2.17572595, -1.57445191,  0.30132349,  0.07463089,  0.21715557,\n",
       "        1.85270085, -0.7090541 ,  1.73719313,  1.27032561, -0.28398035,\n",
       "       -0.38621224,  0.51238161, -0.9437526 , -0.67289548,  0.79590398,\n",
       "        0.01180536,  0.23041895,  1.41098731, -0.25749424,  0.42400523,\n",
       "       -0.02982384,  0.74808787, -0.15166498, -0.65929085,  0.18094918,\n",
       "       -0.34425036,  0.35008138, -0.73564744,  0.29432311, -0.52837686,\n",
       "       -0.27815073,  0.98021986,  0.23781655,  1.5601095 ,  3.        ,\n",
       "       -0.78782472, -1.33730072,  0.85518083, -0.88960827,  1.91858278,\n",
       "        2.14175904, -1.05046825,  0.10824696,  0.77370543,  0.3579491 ,\n",
       "        0.18460627, -1.05308317, -0.584593  , -0.29476064,  0.86038822])"
      ]
     },
     "execution_count": 9,
     "metadata": {},
     "output_type": "execute_result"
    }
   ],
   "source": [
    "b_true = dl1pl['b']\n",
    "b_true"
   ]
  },
  {
   "cell_type": "code",
   "execution_count": 10,
   "id": "b1270869-9d13-4b42-a7cd-5610d5a47054",
   "metadata": {},
   "outputs": [],
   "source": [
    "def uoc_luong_nlts_1pl(theta_init, b, u, max_iterations = 100, tol = 10e-6):\n",
    "    theta_es = theta_init\n",
    "    for i in range(max_iterations):\n",
    "        P = irt1pl(theta_es, b)\n",
    "        Q = 1 - P\n",
    "        L1 = 0\n",
    "        L2 = 0\n",
    "        for j in range(len(b)):\n",
    "            L1 += u[j] - P[j]\n",
    "            L2 += P[j] * Q[j]\n",
    "        delta = L1 / L2\n",
    "        if np.abs(delta) < tol:\n",
    "            print(f\"Hội tụ sau {i + 1} lần lặp !!\")\n",
    "            break\n",
    "        theta_es = theta_es  + delta\n",
    "    SE = 1 / np.sqrt(L2)\n",
    "    return theta_es, SE"
   ]
  },
  {
   "cell_type": "code",
   "execution_count": 11,
   "id": "64cf124d-5dff-48cf-8c60-608515e5f32e",
   "metadata": {},
   "outputs": [
    {
     "name": "stdout",
     "output_type": "stream",
     "text": [
      "Hội tụ sau 4 lần lặp !!\n"
     ]
    }
   ],
   "source": [
    "theta_init = 0\n",
    "theta_es_1pl, se_1pl = uoc_luong_nlts_1pl(theta_init, b_true, responses1pl)"
   ]
  },
  {
   "cell_type": "code",
   "execution_count": 12,
   "id": "2055b7c0-6709-49eb-970c-1bfdd6977b0e",
   "metadata": {},
   "outputs": [
    {
     "name": "stdout",
     "output_type": "stream",
     "text": [
      "1.119882085016463 0.3344991862189013\n"
     ]
    }
   ],
   "source": [
    "print(theta_es_1pl, se_1pl)"
   ]
  },
  {
   "cell_type": "code",
   "execution_count": 13,
   "id": "d855dea4-0e37-4f3b-a247-cd650d9cfb24",
   "metadata": {},
   "outputs": [],
   "source": [
    "theta_true = 0.5\n",
    "responses2pl, dl2pl = simulate_irt_responses(model = \"2PL\", theta = theta_true)"
   ]
  },
  {
   "cell_type": "code",
   "execution_count": 14,
   "id": "af6d023a-fdd2-464d-b224-ecfc18d86a20",
   "metadata": {},
   "outputs": [
    {
     "data": {
      "text/plain": [
       "array([1, 1, 1, 1, 1, 0, 0, 1, 0, 1, 1, 1, 0, 0, 1, 0, 1, 0, 0, 0, 1, 0,\n",
       "       1, 0, 1, 1, 1, 1, 0, 0, 1, 0, 0, 1, 0, 0, 1, 1, 0, 1, 1, 1, 1, 1,\n",
       "       1, 1, 0, 1, 0, 0])"
      ]
     },
     "execution_count": 14,
     "metadata": {},
     "output_type": "execute_result"
    }
   ],
   "source": [
    "responses2pl"
   ]
  },
  {
   "cell_type": "code",
   "execution_count": 15,
   "id": "f149a55c-1702-4313-945f-7e119957f824",
   "metadata": {},
   "outputs": [
    {
     "data": {
      "text/plain": [
       "array([0.53809016, 0.30604543, 1.52137972, 2.21716063, 0.4634116 ,\n",
       "       0.39703571, 1.93456359, 2.8       , 0.52125568, 1.24656107,\n",
       "       1.89720859, 0.1       , 1.14055243, 0.18178982, 0.97151253,\n",
       "       0.8816913 , 0.82431513, 0.68036056, 0.38637447, 0.29636385,\n",
       "       1.10351841, 2.31837308, 1.01718014, 0.49528282, 0.59038009,\n",
       "       0.38267345, 0.53942554, 0.35531566, 1.00355245, 2.65181023,\n",
       "       0.38146753, 2.36480314, 0.84585521, 1.69154644, 1.13701455,\n",
       "       1.05961032, 0.87830164, 0.79791202, 0.70907015, 1.29377297,\n",
       "       1.10426686, 0.86627138, 0.37379408, 0.97540582, 0.95780489,\n",
       "       0.45232268, 1.46769941, 0.24256954, 1.18765596, 0.88270473])"
      ]
     },
     "execution_count": 15,
     "metadata": {},
     "output_type": "execute_result"
    }
   ],
   "source": [
    "a_true_2pl = dl2pl['a']\n",
    "a_true_2pl"
   ]
  },
  {
   "cell_type": "code",
   "execution_count": 16,
   "id": "bc742e89-8df9-4b8a-bb11-14fa8089be79",
   "metadata": {},
   "outputs": [
    {
     "data": {
      "text/plain": [
       "array([-0.69806194, -0.05716732, -1.35588873, -0.77965187,  0.43561013,\n",
       "        0.79985254,  0.91059549, -0.58586674,  0.74375645, -0.86818832,\n",
       "       -0.61654818, -0.41397429,  0.59028111,  2.06242523, -0.83863285,\n",
       "        0.78184245,  0.31482925,  2.33672276,  0.87667223,  1.13529795,\n",
       "       -1.31880766,  1.23364224, -0.55132638,  1.31188891, -0.69584254,\n",
       "       -0.31995425, -0.01801304, -1.7425206 ,  1.05237881,  0.61280193,\n",
       "        0.41250786,  0.8865471 ,  1.45440785, -0.14628361,  1.58149816,\n",
       "        1.06065166, -1.60701027, -1.13307819,  1.24676837, -0.53733867,\n",
       "       -0.65281202, -1.95718453, -0.71841359, -1.53817905, -0.2792196 ,\n",
       "       -0.54902236,  0.82216117,  0.3618057 ,  0.69957956,  0.51041689])"
      ]
     },
     "execution_count": 16,
     "metadata": {},
     "output_type": "execute_result"
    }
   ],
   "source": [
    "b_true_2pl = dl2pl['b']\n",
    "b_true_2pl"
   ]
  },
  {
   "cell_type": "code",
   "execution_count": 17,
   "id": "60ffb31f-d00f-4f97-a92c-3cf350dd0e6d",
   "metadata": {},
   "outputs": [],
   "source": [
    "def uoc_luong_nlts_2pl(theta_init, a, b, u, max_iterations = 100, tol = 10e-6):\n",
    "    theta_es = theta_init\n",
    "    for i in range(max_iterations):\n",
    "        P = irt2pl(theta_es, a, b)\n",
    "        Q = 1 - P\n",
    "        L1 = 0\n",
    "        L2 = 0\n",
    "        for j in range(len(b)):\n",
    "            L1 += a[j] * (u[j] - P[j])\n",
    "            L2 += a[j] ** 2 * P[j] * Q[j]\n",
    "        delta = L1 / L2\n",
    "        if np.abs(delta) < tol:\n",
    "            print(f\"Hội tụ sau {i + 1} lần lặp !!\")\n",
    "            break\n",
    "        theta_es = theta_es  + delta\n",
    "    SE = 1 / np.sqrt(L2)\n",
    "    return theta_es, SE"
   ]
  },
  {
   "cell_type": "code",
   "execution_count": 18,
   "id": "6c1af190-3878-4e31-8bc4-0da4eb949bde",
   "metadata": {},
   "outputs": [
    {
     "name": "stdout",
     "output_type": "stream",
     "text": [
      "Hội tụ sau 3 lần lặp !!\n"
     ]
    }
   ],
   "source": [
    "theta_es_2pl, se_2pl = uoc_luong_nlts_2pl(theta_init, a_true_2pl, b_true_2pl, responses2pl)"
   ]
  },
  {
   "cell_type": "code",
   "execution_count": 19,
   "id": "1f397741-5f09-4f12-9431-2bd7af3cb5f8",
   "metadata": {},
   "outputs": [
    {
     "name": "stdout",
     "output_type": "stream",
     "text": [
      "0.27221008995228824 0.3010024752207827\n"
     ]
    }
   ],
   "source": [
    "print(theta_es_2pl, se_2pl)"
   ]
  },
  {
   "cell_type": "code",
   "execution_count": 20,
   "id": "ecd0bcc1-74d5-4d49-95e3-21ef2b70793b",
   "metadata": {},
   "outputs": [],
   "source": [
    "theta_true = 0.5\n",
    "responses3pl, dl3pl = simulate_irt_responses(model = \"3PL\", theta = theta_true)"
   ]
  },
  {
   "cell_type": "code",
   "execution_count": 21,
   "id": "36eb140a-4177-4dca-9ee4-a1c0d2a93473",
   "metadata": {},
   "outputs": [
    {
     "data": {
      "text/plain": [
       "array([0.19385792, 0.9336937 , 0.5806382 , 0.51834546, 1.63106975,\n",
       "       0.29382687, 0.98256056, 0.62777209, 0.87210075, 0.90715701,\n",
       "       1.04284296, 0.43194615, 1.09223293, 0.85084007, 2.02565968,\n",
       "       0.67377007, 0.22742249, 0.46483375, 0.69435378, 1.138575  ,\n",
       "       1.38263046, 0.42006504, 0.26593109, 1.07028273, 0.60856866,\n",
       "       0.3345301 , 0.31319795, 0.92599268, 0.61180632, 0.58641595,\n",
       "       0.37101603, 1.09472147, 0.71301711, 2.01828014, 0.17640163,\n",
       "       2.23066965, 0.61716184, 0.28442307, 0.86011225, 0.31851788,\n",
       "       0.11980599, 0.80689227, 0.59866082, 1.79293385, 0.1       ,\n",
       "       0.82358816, 1.01592374, 0.37077247, 0.40190871, 2.8       ])"
      ]
     },
     "execution_count": 21,
     "metadata": {},
     "output_type": "execute_result"
    }
   ],
   "source": [
    "a_true_3pl = dl3pl['a']\n",
    "a_true_3pl"
   ]
  },
  {
   "cell_type": "code",
   "execution_count": 22,
   "id": "ebe59af6-3262-4c1f-ac5e-d3b0041f2eab",
   "metadata": {},
   "outputs": [
    {
     "data": {
      "text/plain": [
       "array([ 0.75742194, -0.82913422, -0.11689556,  2.05549533, -0.75685009,\n",
       "        2.15216971,  0.82647292,  0.98174203,  0.8605978 , -1.07498207,\n",
       "       -0.64498452,  1.34842109,  0.20537701, -0.83092521,  0.31542367,\n",
       "        0.11846288,  0.65631521,  0.10366101,  0.44209237, -1.79704229,\n",
       "       -0.73538199,  0.59230566,  0.76334184, -0.59699429, -0.90315399,\n",
       "        1.12988963, -0.2712599 , -1.19165079,  1.12347177,  1.04121065,\n",
       "        0.18887421,  0.9428857 , -0.05642503, -0.3553928 ,  0.0162596 ,\n",
       "       -0.19930797, -0.55027073, -1.49149677,  0.8998721 , -1.42195325,\n",
       "        0.29222698, -1.28102435, -0.43161193,  3.        ,  1.34624029,\n",
       "       -0.8112498 , -0.32045106, -1.06292257,  1.85908119,  0.14813721])"
      ]
     },
     "execution_count": 22,
     "metadata": {},
     "output_type": "execute_result"
    }
   ],
   "source": [
    "b_true_3pl = dl3pl['b']\n",
    "b_true_3pl"
   ]
  },
  {
   "cell_type": "code",
   "execution_count": 23,
   "id": "4b32b90c-f3e3-48e8-8874-9036dedbd2f8",
   "metadata": {},
   "outputs": [
    {
     "data": {
      "text/plain": [
       "array([0.07076895, 0.10967699, 0.06266502, 0.11782579, 0.12688836,\n",
       "       0.0528175 , 0.0838145 , 0.09040381, 0.09503477, 0.11348364,\n",
       "       0.08027018, 0.08671374, 0.05285771, 0.07353311, 0.07807632,\n",
       "       0.06512492, 0.09303826, 0.02935055, 0.13083939, 0.14100846,\n",
       "       0.05574347, 0.05698147, 0.0995011 , 0.02479306, 0.14972351,\n",
       "       0.10921562, 0.10196496, 0.05778576, 0.05205704, 0.05516753,\n",
       "       0.06363843, 0.15967341, 0.10207041, 0.13479671, 0.09276371,\n",
       "       0.07308593, 0.05286442, 0.04677227, 0.0296378 , 0.02752491,\n",
       "       0.12878285, 0.10062505, 0.07728754, 0.03521767, 0.0866674 ,\n",
       "       0.08922617, 0.10510139, 0.04125483, 0.09768616, 0.09753351])"
      ]
     },
     "execution_count": 23,
     "metadata": {},
     "output_type": "execute_result"
    }
   ],
   "source": [
    "c_true_3pl = dl3pl['c']\n",
    "c_true_3pl"
   ]
  },
  {
   "cell_type": "code",
   "execution_count": 24,
   "id": "48c197ed-b73b-4a61-a927-da8ae5e3435c",
   "metadata": {},
   "outputs": [],
   "source": [
    "def uoc_luong_nlts_3pl(theta_init, a, b, c, u, max_iterations = 100, tol = 10e-6):\n",
    "    theta_es = theta_init\n",
    "    for i in range(max_iterations):\n",
    "        P = irt3pl(theta_es, a, b, c)\n",
    "        Q = 1 - P\n",
    "        L1 = 0\n",
    "        L2 = 0\n",
    "        for j in range(len(b)):\n",
    "            L1 += a[j] * (P[j] - c[j]) * (u[j] - P[j]) / ((1 - c[j]) * P[j]) \n",
    "            L2 += a[j] ** 2 * (Q[j] * ((P[j] - c[j]) ** 2)) / (P[j] * ((1 - c[j]) ** 2))\n",
    "        delta = L1 / L2\n",
    "        if np.abs(delta) < tol:\n",
    "            print(f\"Hội tụ sau {i + 1} lần lặp !!\")\n",
    "            break\n",
    "        theta_es = theta_es  + delta\n",
    "    SE = 1 / np.sqrt(L2)\n",
    "    return theta_es, SE"
   ]
  },
  {
   "cell_type": "code",
   "execution_count": 25,
   "id": "66e09b89-b0bd-47bf-a99e-a3690bfcb45a",
   "metadata": {},
   "outputs": [
    {
     "name": "stdout",
     "output_type": "stream",
     "text": [
      "Hội tụ sau 6 lần lặp !!\n"
     ]
    }
   ],
   "source": [
    "theta_es_3pl, se_3pl = uoc_luong_nlts_3pl(theta_init, a_true_3pl, b_true_3pl, c_true_3pl, responses3pl)"
   ]
  },
  {
   "cell_type": "code",
   "execution_count": 26,
   "id": "1ae21433-c70b-4260-8dc7-4f0109d80736",
   "metadata": {},
   "outputs": [
    {
     "name": "stdout",
     "output_type": "stream",
     "text": [
      "1.3443809891431808 0.5032532416007595\n"
     ]
    }
   ],
   "source": [
    "print(theta_es_3pl, se_3pl)"
   ]
  },
  {
   "cell_type": "code",
   "execution_count": 27,
   "id": "c03790b4-1083-417e-8901-f6fd81d8894a",
   "metadata": {},
   "outputs": [],
   "source": [
    "def uoc_luong_nlts_map_1pl(theta_init, b, u, max_iterations = 100, tol = 10e-6, mean = 0, std = 1):\n",
    "    theta_es = theta_init\n",
    "    for i in range(max_iterations):\n",
    "        P = irt1pl(theta_es, b)\n",
    "        Q = 1 - P\n",
    "        L1 = 0\n",
    "        L2 = 0\n",
    "        for j in range(len(b)):\n",
    "            L1 += (u[j] - P[j]) - (theta_es - mean) / std ** 2\n",
    "            L2 += P[j] * Q[j] + 1 / std ** 2\n",
    "        delta = L1 / L2\n",
    "        if np.abs(delta) < tol:\n",
    "            print(f\"Hội tụ sau {i + 1} lần lặp !!\")\n",
    "            break\n",
    "        theta_es = theta_es  + delta\n",
    "    SE = 1 / np.sqrt(L2)\n",
    "    return theta_es, SE"
   ]
  },
  {
   "cell_type": "code",
   "execution_count": 102,
   "id": "a5694bf2-64db-46c6-8328-a387d3b59f27",
   "metadata": {},
   "outputs": [
    {
     "name": "stdout",
     "output_type": "stream",
     "text": [
      "Hội tụ sau 3 lần lặp !!\n"
     ]
    }
   ],
   "source": [
    "theta_es_1pl_map, se_1pl_map = uoc_luong_nlts_map_1pl(theta_init, b_true, responses1pl)"
   ]
  },
  {
   "cell_type": "code",
   "execution_count": 103,
   "id": "8196cd77-2e84-450d-ac31-96cb8bbd9784",
   "metadata": {},
   "outputs": [
    {
     "name": "stdout",
     "output_type": "stream",
     "text": [
      "0.22766130450160266 0.12794473801493056\n"
     ]
    }
   ],
   "source": [
    "print(theta_es_1pl_map, se_1pl_map )"
   ]
  },
  {
   "cell_type": "code",
   "execution_count": 104,
   "id": "58c1b09f-44da-4c13-b7a8-d545bc353f5d",
   "metadata": {},
   "outputs": [],
   "source": [
    "def uoc_luong_nlts_map_2pl(theta_init, a, b, u, max_iterations = 100, tol = 10e-6, mean = 0, std = 1):\n",
    "    theta_es = theta_init\n",
    "    for i in range(max_iterations):\n",
    "        P = irt2pl(theta_es, a, b)\n",
    "        Q = 1 - P\n",
    "        L1 = 0\n",
    "        L2 = 0\n",
    "        for j in range(len(b)):\n",
    "            L1 += a[j] * (u[j] - P[j]) - (theta_es - mean) / std ** 2\n",
    "            L2 += a[j] ** 2 * P[j] * Q[j] + 1 / std ** 2\n",
    "        delta = L1 / L2\n",
    "        if np.abs(delta) < tol:\n",
    "            print(f\"Hội tụ sau {i + 1} lần lặp !!\")\n",
    "            break\n",
    "        theta_es = theta_es  + delta\n",
    "    SE = 1 / np.sqrt(L2)\n",
    "    return theta_es, SE"
   ]
  },
  {
   "cell_type": "code",
   "execution_count": 107,
   "id": "b7acb635-ee10-43c0-a2f7-a2f16cdea5ce",
   "metadata": {},
   "outputs": [
    {
     "name": "stdout",
     "output_type": "stream",
     "text": [
      "Hội tụ sau 3 lần lặp !!\n"
     ]
    }
   ],
   "source": [
    "theta_es_2pl_map, se_2pl_map = uoc_luong_nlts_map_2pl(theta_init, a_true_2pl, b_true_2pl, responses1pl)"
   ]
  },
  {
   "cell_type": "code",
   "execution_count": 108,
   "id": "6bade6da-ccd2-407a-8284-cd2ece2d90bb",
   "metadata": {},
   "outputs": [
    {
     "name": "stdout",
     "output_type": "stream",
     "text": [
      "0.16851727887588622 0.12552856239871046\n"
     ]
    }
   ],
   "source": [
    "print(theta_es_2pl_map, se_2pl_map )"
   ]
  },
  {
   "cell_type": "code",
   "execution_count": 117,
   "id": "9d0ed231-9c56-4cfa-a6dc-bc61e36d876e",
   "metadata": {},
   "outputs": [],
   "source": [
    "def uoc_luong_nlts_map_3pl(theta_init, a, b, c, u, max_iterations = 100, tol = 10e-6, mean = 0, std = 1):\n",
    "    theta_es = theta_init\n",
    "    for i in range(max_iterations):\n",
    "        P = irt3pl(theta_es, a, b, c)\n",
    "        Q = 1 - P\n",
    "        L1 = 0\n",
    "        L2 = 0\n",
    "        for j in range(len(b)):\n",
    "            L1 += a[j] * (P[j] - c[j]) * (u[j] - P[j]) / ((1 - c[j]) * P[j]) - (theta_es - mean) / std ** 2\n",
    "            L2 += a[j] ** 2 * (Q[j] * ((P[j] - c[j]) ** 2)) / (P[j] * ((1 - c[j]) ** 2)) + 1 / std ** 2\n",
    "        delta = L1 / L2\n",
    "        if np.abs(delta) < tol:\n",
    "            print(f\"Hội tụ sau {i + 1} lần lặp !!\")\n",
    "            break\n",
    "        theta_es = theta_es  + delta\n",
    "    SE = 1 / np.sqrt(L2)\n",
    "    return theta_es, SE"
   ]
  },
  {
   "cell_type": "code",
   "execution_count": 118,
   "id": "1a180aa9-3b76-4564-8ec4-6f455d52ccb0",
   "metadata": {},
   "outputs": [
    {
     "name": "stdout",
     "output_type": "stream",
     "text": [
      "Hội tụ sau 5 lần lặp !!\n"
     ]
    }
   ],
   "source": [
    "theta_es_3pl_map, se_3pl_map = uoc_luong_nlts_map_3pl(theta_init, a_true_3pl, b_true_3pl, c_true_3pl, responses1pl)"
   ]
  },
  {
   "cell_type": "code",
   "execution_count": 119,
   "id": "d7041bf5-fcd7-4c7b-8a08-a35f332c5f39",
   "metadata": {},
   "outputs": [
    {
     "name": "stdout",
     "output_type": "stream",
     "text": [
      "0.17766464118374864 0.13294390173663417\n"
     ]
    }
   ],
   "source": [
    "print(theta_es_3pl_map, se_3pl_map)"
   ]
  }
 ],
 "metadata": {
  "kernelspec": {
   "display_name": "Python 3 (ipykernel)",
   "language": "python",
   "name": "python3"
  },
  "language_info": {
   "codemirror_mode": {
    "name": "ipython",
    "version": 3
   },
   "file_extension": ".py",
   "mimetype": "text/x-python",
   "name": "python",
   "nbconvert_exporter": "python",
   "pygments_lexer": "ipython3",
   "version": "3.12.7"
  }
 },
 "nbformat": 4,
 "nbformat_minor": 5
}
